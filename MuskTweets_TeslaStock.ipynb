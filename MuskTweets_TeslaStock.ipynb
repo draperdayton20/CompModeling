{
  "nbformat": 4,
  "nbformat_minor": 0,
  "metadata": {
    "colab": {
      "name": "MuskTweets-TeslaStock.ipynb",
      "provenance": [],
      "authorship_tag": "ABX9TyOT+RzHgC+Gcxku9s5+Ll8X",
      "include_colab_link": true
    },
    "kernelspec": {
      "name": "python3",
      "display_name": "Python 3"
    }
  },
  "cells": [
    {
      "cell_type": "markdown",
      "metadata": {
        "id": "view-in-github",
        "colab_type": "text"
      },
      "source": [
        "<a href=\"https://colab.research.google.com/github/draperdayton20/CompModeling/blob/master/MuskTweets_TeslaStock.ipynb\" target=\"_parent\"><img src=\"https://colab.research.google.com/assets/colab-badge.svg\" alt=\"Open In Colab\"/></a>"
      ]
    },
    {
      "cell_type": "markdown",
      "metadata": {
        "id": "S1voy8Ije6wJ",
        "colab_type": "text"
      },
      "source": [
        "### Using Elon Musk tweets to predict Tesla stock\n",
        "\n",
        "For this project, I attempted to predict the direction of change in Tesla stock price using Elon Musk's tweets."
      ]
    },
    {
      "cell_type": "code",
      "metadata": {
        "id": "jOXDZZJ1W4he",
        "colab_type": "code",
        "colab": {}
      },
      "source": [
        "import matplotlib.pyplot as plt\n",
        "import pandas as pd\n",
        "\n",
        "stock = pd.read_csv('https://raw.githubusercontent.com/draperdayton20/CompModeling/master/TSLA.csv')\n",
        "tweets = pd.read_csv('https://raw.githubusercontent.com/draperdayton20/CompModeling/master/usertweets-elon-musk-tweets-QueryResult.csv')"
      ],
      "execution_count": 0,
      "outputs": []
    },
    {
      "cell_type": "markdown",
      "metadata": {
        "id": "D8b-BWFtfVSG",
        "colab_type": "text"
      },
      "source": [
        "The first step was to figure out how to analyze the tweets.  The following code creates an algorithem that can read text, and assign it a sentiment (either negative or positive).  When doing this, I followed along with a walk-through that can be found [here](https://www.digitalocean.com/community/tutorials/how-to-perform-sentiment-analysis-in-python-3-using-the-natural-language-toolkit-nltk)."
      ]
    },
    {
      "cell_type": "code",
      "metadata": {
        "id": "roolWF5XeI7J",
        "colab_type": "code",
        "outputId": "020bb22a-3b7f-48e6-c61e-f4416709a775",
        "colab": {
          "base_uri": "https://localhost:8080/",
          "height": 51
        }
      },
      "source": [
        "!pip install nltk==3.3"
      ],
      "execution_count": 537,
      "outputs": [
        {
          "output_type": "stream",
          "text": [
            "Requirement already satisfied: nltk==3.3 in /usr/local/lib/python3.6/dist-packages (3.3)\n",
            "Requirement already satisfied: six in /usr/local/lib/python3.6/dist-packages (from nltk==3.3) (1.12.0)\n"
          ],
          "name": "stdout"
        }
      ]
    },
    {
      "cell_type": "code",
      "metadata": {
        "id": "V6gNOHKmecOh",
        "colab_type": "code",
        "outputId": "43019098-e544-4630-90c9-882b9047c6a3",
        "colab": {
          "base_uri": "https://localhost:8080/",
          "height": 68
        }
      },
      "source": [
        "import nltk\n",
        "nltk.download('twitter_samples')"
      ],
      "execution_count": 538,
      "outputs": [
        {
          "output_type": "stream",
          "text": [
            "[nltk_data] Downloading package twitter_samples to /root/nltk_data...\n",
            "[nltk_data]   Package twitter_samples is already up-to-date!\n"
          ],
          "name": "stdout"
        },
        {
          "output_type": "execute_result",
          "data": {
            "text/plain": [
              "True"
            ]
          },
          "metadata": {
            "tags": []
          },
          "execution_count": 538
        }
      ]
    },
    {
      "cell_type": "markdown",
      "metadata": {
        "id": "YiYw9H72gAI5",
        "colab_type": "text"
      },
      "source": [
        "This downloads a dataset that countains thousands of tweets, already tagged for their sentiment."
      ]
    },
    {
      "cell_type": "code",
      "metadata": {
        "id": "wnYRRat_fCYW",
        "colab_type": "code",
        "colab": {}
      },
      "source": [
        "from nltk.corpus import twitter_samples\n",
        "\n",
        "pos_tweets = twitter_samples.strings('positive_tweets.json')\n",
        "neg_tweets = twitter_samples.strings('negative_tweets.json')\n",
        "text = twitter_samples.strings('tweets.20150430-223406.json')"
      ],
      "execution_count": 0,
      "outputs": []
    },
    {
      "cell_type": "code",
      "metadata": {
        "id": "bsQx6NlLfisl",
        "colab_type": "code",
        "outputId": "dbcb2d83-e2cd-40b2-ef05-afc32222f1a3",
        "colab": {
          "base_uri": "https://localhost:8080/",
          "height": 68
        }
      },
      "source": [
        "nltk.download('punkt')"
      ],
      "execution_count": 540,
      "outputs": [
        {
          "output_type": "stream",
          "text": [
            "[nltk_data] Downloading package punkt to /root/nltk_data...\n",
            "[nltk_data]   Package punkt is already up-to-date!\n"
          ],
          "name": "stdout"
        },
        {
          "output_type": "execute_result",
          "data": {
            "text/plain": [
              "True"
            ]
          },
          "metadata": {
            "tags": []
          },
          "execution_count": 540
        }
      ]
    },
    {
      "cell_type": "markdown",
      "metadata": {
        "id": "a_V2Xz7ggoTA",
        "colab_type": "text"
      },
      "source": [
        "This section starts by figuring out each word's context in the sentence.  NNP, for example, means \"Noun, proper, singular.\""
      ]
    },
    {
      "cell_type": "code",
      "metadata": {
        "id": "q0IIoaX6gky2",
        "colab_type": "code",
        "outputId": "9a114b4c-6240-423d-bd51-510666c37a24",
        "colab": {
          "base_uri": "https://localhost:8080/",
          "height": 136
        }
      },
      "source": [
        "nltk.download('wordnet')\n",
        "nltk.download('averaged_perceptron_tagger')"
      ],
      "execution_count": 541,
      "outputs": [
        {
          "output_type": "stream",
          "text": [
            "[nltk_data] Downloading package wordnet to /root/nltk_data...\n",
            "[nltk_data]   Package wordnet is already up-to-date!\n",
            "[nltk_data] Downloading package averaged_perceptron_tagger to\n",
            "[nltk_data]     /root/nltk_data...\n",
            "[nltk_data]   Package averaged_perceptron_tagger is already up-to-\n",
            "[nltk_data]       date!\n"
          ],
          "name": "stdout"
        },
        {
          "output_type": "execute_result",
          "data": {
            "text/plain": [
              "True"
            ]
          },
          "metadata": {
            "tags": []
          },
          "execution_count": 541
        }
      ]
    },
    {
      "cell_type": "code",
      "metadata": {
        "id": "n9SHmsHAg8cV",
        "colab_type": "code",
        "outputId": "e5d85238-56b3-4a92-9fa1-3d9bd5395707",
        "colab": {
          "base_uri": "https://localhost:8080/",
          "height": 54
        }
      },
      "source": [
        "from nltk.tag import pos_tag\n",
        "print(pos_tag(tweet_tokens[0]))"
      ],
      "execution_count": 542,
      "outputs": [
        {
          "output_type": "stream",
          "text": [
            "[('#FollowFriday', 'JJ'), ('@France_Inte', 'NNP'), ('@PKuchly57', 'NNP'), ('@Milipol_Paris', 'NNP'), ('for', 'IN'), ('being', 'VBG'), ('top', 'JJ'), ('engaged', 'VBN'), ('members', 'NNS'), ('in', 'IN'), ('my', 'PRP$'), ('community', 'NN'), ('this', 'DT'), ('week', 'NN'), (':)', 'NN')]\n"
          ],
          "name": "stdout"
        }
      ]
    },
    {
      "cell_type": "markdown",
      "metadata": {
        "id": "N3U0mjAKg-GM",
        "colab_type": "text"
      },
      "source": [
        "The next step is to take words that have multiple forms (ie dance, dancing, danced), and simplifying them all to one form.  This is called lemmatization."
      ]
    },
    {
      "cell_type": "code",
      "metadata": {
        "id": "XiWuKfPghwfS",
        "colab_type": "code",
        "outputId": "7672b8ae-11f2-4acd-e424-e87aa7e5aac9",
        "colab": {
          "base_uri": "https://localhost:8080/",
          "height": 34
        }
      },
      "source": [
        "from nltk.stem.wordnet import WordNetLemmatizer\n",
        "def lemmatize_sentence(tokens):\n",
        "  lemmatizer = WordNetLemmatizer()\n",
        "  lemmatized_sentence = []\n",
        "  for word, tag in pos_tag(tokens):\n",
        "    if tag.startswith('NN'):\n",
        "      pos = 'n'\n",
        "    elif tag.startswith('VB'):\n",
        "      pos = 'v'\n",
        "    else:\n",
        "      pos = 'a'\n",
        "    lemmatized_sentence.append(lemmatizer.lemmatize(word,pos))\n",
        "  return lemmatized_sentence\n",
        "\n",
        "print(lemmatize_sentence(tweet_tokens[0]))\n"
      ],
      "execution_count": 543,
      "outputs": [
        {
          "output_type": "stream",
          "text": [
            "['#FollowFriday', '@France_Inte', '@PKuchly57', '@Milipol_Paris', 'for', 'be', 'top', 'engage', 'member', 'in', 'my', 'community', 'this', 'week', ':)']\n"
          ],
          "name": "stdout"
        }
      ]
    },
    {
      "cell_type": "markdown",
      "metadata": {
        "id": "XfDt8g3dhcmg",
        "colab_type": "text"
      },
      "source": [
        "Next, we remove 'noise.'  This means any bit of text that doesn't actually help establish meaning, like twitter handles and punctuation.  This also includes stopwords, which are words that don't tend to change the meaning of a phrase, like 'is' and 'a'."
      ]
    },
    {
      "cell_type": "code",
      "metadata": {
        "id": "4hn6iv8IjfVS",
        "colab_type": "code",
        "colab": {}
      },
      "source": [
        "import re, string\n",
        "\n",
        "def remove_noise(tweet_tokens, stop_words = ()):\n",
        "    cleaned_tokens = []\n",
        "    for token, tag in pos_tag(tweet_tokens):\n",
        "        token = re.sub('http[s]?://(?:[a-zA-Z]|[0-9]|[$-_@.&+#]|[!*\\(\\),]|'\\\n",
        "                       '(?:%[0-9a-fA-F][0-9a-fA-F]))+','', token)\n",
        "        token = re.sub(\"(@[A-Za-z0-9_]+)\",\"\", token)\n",
        "        \n",
        "        if tag.startswith(\"NN\"):\n",
        "            pos = 'n'\n",
        "        elif tag.startswith('VB'):\n",
        "            pos = 'v'\n",
        "        else:\n",
        "            pos = 'a'\n",
        "        lemmatizer = WordNetLemmatizer()\n",
        "        token = lemmatizer.lemmatize(token, pos)\n",
        "\n",
        "        if len(token) > 0 and token not in string.punctuation and token.lower() not in stop_words:\n",
        "            cleaned_tokens.append(token.lower())\n",
        "    return cleaned_tokens"
      ],
      "execution_count": 0,
      "outputs": []
    },
    {
      "cell_type": "code",
      "metadata": {
        "id": "2rKmPJpEmObj",
        "colab_type": "code",
        "outputId": "c824a129-ef04-4f69-bcbf-9ba0fc9a9d1d",
        "colab": {
          "base_uri": "https://localhost:8080/",
          "height": 68
        }
      },
      "source": [
        "nltk.download('stopwords')"
      ],
      "execution_count": 545,
      "outputs": [
        {
          "output_type": "stream",
          "text": [
            "[nltk_data] Downloading package stopwords to /root/nltk_data...\n",
            "[nltk_data]   Package stopwords is already up-to-date!\n"
          ],
          "name": "stdout"
        },
        {
          "output_type": "execute_result",
          "data": {
            "text/plain": [
              "True"
            ]
          },
          "metadata": {
            "tags": []
          },
          "execution_count": 545
        }
      ]
    },
    {
      "cell_type": "code",
      "metadata": {
        "id": "ktxBMT3GmSlm",
        "colab_type": "code",
        "outputId": "c9dbefa5-8a55-46f0-ffd7-5de45264c0ae",
        "colab": {
          "base_uri": "https://localhost:8080/",
          "height": 34
        }
      },
      "source": [
        "from nltk.corpus import stopwords\n",
        "stop_words = stopwords.words('english')\n",
        "\n",
        "print(remove_noise(tweet_tokens[0],stop_words))"
      ],
      "execution_count": 546,
      "outputs": [
        {
          "output_type": "stream",
          "text": [
            "['#followfriday', 'top', 'engage', 'member', 'community', 'week', ':)']\n"
          ],
          "name": "stdout"
        }
      ]
    },
    {
      "cell_type": "code",
      "metadata": {
        "id": "7Gg6dlmGvpjj",
        "colab_type": "code",
        "outputId": "02a99719-12ea-44f8-f3cc-18cf33c50281",
        "colab": {
          "base_uri": "https://localhost:8080/",
          "height": 51
        }
      },
      "source": [
        "positive_tweet_tokens = twitter_samples.tokenized('positive_tweets.json')\n",
        "negative_tweet_tokens = twitter_samples.tokenized('negative_tweets.json')\n",
        "\n",
        "positive_cleaned_tokens_list = []\n",
        "negative_cleaned_tokens_list = []\n",
        "\n",
        "for tokens in positive_tweet_tokens:\n",
        "    positive_cleaned_tokens_list.append(remove_noise(tokens, stop_words))\n",
        "\n",
        "for tokens in negative_tweet_tokens:\n",
        "    negative_cleaned_tokens_list.append(remove_noise(tokens, stop_words))\n",
        "\n",
        "print(positive_tweet_tokens[500])\n",
        "print(positive_cleaned_tokens_list[500])"
      ],
      "execution_count": 547,
      "outputs": [
        {
          "output_type": "stream",
          "text": [
            "['Dang', 'that', 'is', 'some', 'rad', '@AbzuGame', '#fanart', '!', ':D', 'https://t.co/bI8k8tb9ht']\n",
            "['dang', 'rad', '#fanart', ':d']\n"
          ],
          "name": "stdout"
        }
      ]
    },
    {
      "cell_type": "markdown",
      "metadata": {
        "id": "VAaTVxfBiYN3",
        "colab_type": "text"
      },
      "source": [
        "Now that the data has been made usable, the real analysis starts.  We can't really do much analysis with just one tweets at a time, so the first step is to put all the words from the positive tweets together, and do the same for the negative tweets."
      ]
    },
    {
      "cell_type": "code",
      "metadata": {
        "id": "8PNoma2XxPk_",
        "colab_type": "code",
        "outputId": "9047b882-f61a-4d80-af85-7871ca7c151d",
        "colab": {
          "base_uri": "https://localhost:8080/",
          "height": 34
        }
      },
      "source": [
        "def get_all_words(cleaned_tokens_list):\n",
        "    for tokens in cleaned_tokens_list:\n",
        "        for token in tokens:\n",
        "            yield token\n",
        "\n",
        "all_pos_words = get_all_words(positive_cleaned_tokens_list)\n",
        "\n",
        "from nltk import FreqDist\n",
        "\n",
        "freq_dist_pos = FreqDist(all_pos_words)\n",
        "print(freq_dist_pos.most_common(10))"
      ],
      "execution_count": 548,
      "outputs": [
        {
          "output_type": "stream",
          "text": [
            "[(':)', 3691), (':-)', 701), (':d', 658), ('thanks', 388), ('follow', 357), ('love', 333), ('...', 290), ('good', 283), ('get', 263), ('thank', 253)]\n"
          ],
          "name": "stdout"
        }
      ]
    },
    {
      "cell_type": "markdown",
      "metadata": {
        "id": "BA5sSGewi91k",
        "colab_type": "text"
      },
      "source": [
        "This final part splits the data up into a training and testing set, then trains and tests it.  It also displays the model's accuracy based on the test data, and some of the most positive and negative strings."
      ]
    },
    {
      "cell_type": "code",
      "metadata": {
        "id": "AJmtD2oGzB_P",
        "colab_type": "code",
        "outputId": "9f0c232c-d314-4671-df69-d13edda85092",
        "colab": {
          "base_uri": "https://localhost:8080/",
          "height": 238
        }
      },
      "source": [
        "def get_tweets_for_model(cleaned_tokens_list):\n",
        "    for tweet_tokens in cleaned_tokens_list:\n",
        "        yield dict([token, True] for token in tweet_tokens)\n",
        "\n",
        "positive_tokens_for_model = get_tweets_for_model(positive_cleaned_tokens_list)\n",
        "negative_tokens_for_model = get_tweets_for_model(negative_cleaned_tokens_list)\n",
        "\n",
        "import random\n",
        "positive_dataset = [(tweet_dict, \"Positive\")\n",
        "                     for tweet_dict in positive_tokens_for_model]\n",
        "\n",
        "negative_dataset = [(tweet_dict, \"Negative\")\n",
        "                     for tweet_dict in negative_tokens_for_model]\n",
        "dataset = positive_dataset + negative_dataset\n",
        "random.shuffle(dataset)\n",
        "train_data = dataset[:7000]\n",
        "test_data = dataset[7000:]\n",
        "\n",
        "from nltk import classify\n",
        "from nltk import NaiveBayesClassifier\n",
        "\n",
        "classifier = NaiveBayesClassifier.train(train_data)\n",
        "\n",
        "print(\"Accuracy is:\", classify.accuracy(classifier, test_data))\n",
        "\n",
        "print(classifier.show_most_informative_features(10))\n"
      ],
      "execution_count": 549,
      "outputs": [
        {
          "output_type": "stream",
          "text": [
            "Accuracy is: 0.997\n",
            "Most Informative Features\n",
            "                      :( = True           Negati : Positi =   2051.8 : 1.0\n",
            "                      :) = True           Positi : Negati =   1665.2 : 1.0\n",
            "                follower = True           Positi : Negati =     40.3 : 1.0\n",
            "                     sad = True           Negati : Positi =     22.9 : 1.0\n",
            "                     bam = True           Positi : Negati =     22.0 : 1.0\n",
            "                  arrive = True           Positi : Negati =     20.5 : 1.0\n",
            "              bestfriend = True           Positi : Negati =     14.8 : 1.0\n",
            "                     idk = True           Negati : Positi =     14.8 : 1.0\n",
            "                followed = True           Negati : Positi =     14.8 : 1.0\n",
            "                    sick = True           Negati : Positi =     12.8 : 1.0\n",
            "None\n"
          ],
          "name": "stdout"
        }
      ]
    },
    {
      "cell_type": "markdown",
      "metadata": {
        "id": "Sf0cOvqhlB93",
        "colab_type": "text"
      },
      "source": [
        "This section allows us to enter our own \"tweets\" and see how the model judges them.  It seems to work."
      ]
    },
    {
      "cell_type": "code",
      "metadata": {
        "id": "H4vtZceOzWAr",
        "colab_type": "code",
        "outputId": "ba9205dc-1406-40b7-b103-9c18d4ea230e",
        "colab": {
          "base_uri": "https://localhost:8080/",
          "height": 34
        }
      },
      "source": [
        "from nltk.tokenize import word_tokenize\n",
        "\n",
        "custom_tweet = \"Computational modeling and simulation is my favorite class, and Byron is such a good teacher.\"\n",
        "\n",
        "custom_tokens = remove_noise(word_tokenize(custom_tweet))\n",
        "\n",
        "print(classifier.classify(dict([token, True] for token in custom_tokens)))"
      ],
      "execution_count": 550,
      "outputs": [
        {
          "output_type": "stream",
          "text": [
            "Positive\n"
          ],
          "name": "stdout"
        }
      ]
    },
    {
      "cell_type": "code",
      "metadata": {
        "id": "UW5nn_fNzk-z",
        "colab_type": "code",
        "outputId": "69a8f6f9-a18a-478d-f4bc-4cdaf153e0de",
        "colab": {
          "base_uri": "https://localhost:8080/",
          "height": 34
        }
      },
      "source": [
        "custom_tweet = \"I have mixed feelings about HD.\"\n",
        "\n",
        "custom_tokens = remove_noise(word_tokenize(custom_tweet))\n",
        "\n",
        "print(classifier.classify(dict([token, True] for token in custom_tokens)))"
      ],
      "execution_count": 551,
      "outputs": [
        {
          "output_type": "stream",
          "text": [
            "Negative\n"
          ],
          "name": "stdout"
        }
      ]
    },
    {
      "cell_type": "markdown",
      "metadata": {
        "id": "rp9AAJyDlQw9",
        "colab_type": "text"
      },
      "source": [
        "Then, I started applying the sentiment analysis to my data.  Below, I loaded the dataset with all of Elon Musk's tweets.  Then, I put each one through the model, and recorded the sentiment it found."
      ]
    },
    {
      "cell_type": "code",
      "metadata": {
        "id": "yw4vAy9Z0_lj",
        "colab_type": "code",
        "outputId": "6fec08a2-d99b-47b4-a298-10eb3985533e",
        "colab": {
          "base_uri": "https://localhost:8080/",
          "height": 419
        }
      },
      "source": [
        "tweets"
      ],
      "execution_count": 552,
      "outputs": [
        {
          "output_type": "execute_result",
          "data": {
            "text/html": [
              "<div>\n",
              "<style scoped>\n",
              "    .dataframe tbody tr th:only-of-type {\n",
              "        vertical-align: middle;\n",
              "    }\n",
              "\n",
              "    .dataframe tbody tr th {\n",
              "        vertical-align: top;\n",
              "    }\n",
              "\n",
              "    .dataframe thead th {\n",
              "        text-align: right;\n",
              "    }\n",
              "</style>\n",
              "<table border=\"1\" class=\"dataframe\">\n",
              "  <thead>\n",
              "    <tr style=\"text-align: right;\">\n",
              "      <th></th>\n",
              "      <th>text</th>\n",
              "      <th>username</th>\n",
              "      <th>linktotweet</th>\n",
              "      <th>tweetembedcode</th>\n",
              "      <th>createdat</th>\n",
              "    </tr>\n",
              "  </thead>\n",
              "  <tbody>\n",
              "    <tr>\n",
              "      <th>0</th>\n",
              "      <td>@highqualitysh1t I love the thought of a car d...</td>\n",
              "      <td>elonmusk</td>\n",
              "      <td>http://twitter.com/elonmusk/status/93704198630...</td>\n",
              "      <td>&lt;blockquote class=\"twitter-tweet\"&gt;&lt;p lang=\"en\"...</td>\n",
              "      <td>2017-12-02T19:33:00</td>\n",
              "    </tr>\n",
              "    <tr>\n",
              "      <th>1</th>\n",
              "      <td>@novaspivack Asimov's Foundation books should ...</td>\n",
              "      <td>elonmusk</td>\n",
              "      <td>http://twitter.com/elonmusk/status/93709071522...</td>\n",
              "      <td>&lt;blockquote class=\"twitter-tweet\"&gt;&lt;p lang=\"en\"...</td>\n",
              "      <td>2017-12-02T22:46:00</td>\n",
              "    </tr>\n",
              "    <tr>\n",
              "      <th>2</th>\n",
              "      <td>@novaspivack That's certainly the right way to...</td>\n",
              "      <td>elonmusk</td>\n",
              "      <td>http://twitter.com/elonmusk/status/93710961569...</td>\n",
              "      <td>&lt;blockquote class=\"twitter-tweet\"&gt;&lt;p lang=\"en\"...</td>\n",
              "      <td>2017-12-03T00:01:00</td>\n",
              "    </tr>\n",
              "    <tr>\n",
              "      <th>3</th>\n",
              "      <td>To preserve the transcendent majesty &amp;amp; spe...</td>\n",
              "      <td>elonmusk</td>\n",
              "      <td>http://twitter.com/elonmusk/status/93739733099...</td>\n",
              "      <td>&lt;blockquote class=\"twitter-tweet\"&gt;&lt;p lang=\"en\"...</td>\n",
              "      <td>2017-12-03T19:05:00</td>\n",
              "    </tr>\n",
              "    <tr>\n",
              "      <th>4</th>\n",
              "      <td>@harrisonlingren @JW8888888 Busted</td>\n",
              "      <td>elonmusk</td>\n",
              "      <td>http://twitter.com/elonmusk/status/93739781363...</td>\n",
              "      <td>&lt;blockquote class=\"twitter-tweet\"&gt;&lt;p lang=\"en\"...</td>\n",
              "      <td>2017-12-03T19:07:00</td>\n",
              "    </tr>\n",
              "    <tr>\n",
              "      <th>...</th>\n",
              "      <td>...</td>\n",
              "      <td>...</td>\n",
              "      <td>...</td>\n",
              "      <td>...</td>\n",
              "      <td>...</td>\n",
              "    </tr>\n",
              "    <tr>\n",
              "      <th>4995</th>\n",
              "      <td>@C3LT_Games Roughly</td>\n",
              "      <td>elonmusk</td>\n",
              "      <td>http://twitter.com/elonmusk/status/11613071123...</td>\n",
              "      <td>&lt;blockquote class=\"twitter-tweet\"&gt;&lt;p lang=\"en\"...</td>\n",
              "      <td>2019-08-13T17:02:00</td>\n",
              "    </tr>\n",
              "    <tr>\n",
              "      <th>4996</th>\n",
              "      <td>RT @Tesla: \"I really miss gas stations\" said n...</td>\n",
              "      <td>elonmusk</td>\n",
              "      <td>http://twitter.com/elonmusk/status/11614487607...</td>\n",
              "      <td>&lt;blockquote class=\"twitter-tweet\"&gt;&lt;p lang=\"en\"...</td>\n",
              "      <td>2019-08-14T02:25:00</td>\n",
              "    </tr>\n",
              "    <tr>\n",
              "      <th>4997</th>\n",
              "      <td>No but srsly don't do it https://t.co/6kXAdGwWsC</td>\n",
              "      <td>elonmusk</td>\n",
              "      <td>http://twitter.com/elonmusk/status/11615255053...</td>\n",
              "      <td>&lt;blockquote class=\"twitter-tweet\"&gt;&lt;p lang=\"en\"...</td>\n",
              "      <td>2019-08-14T07:30:00</td>\n",
              "    </tr>\n",
              "    <tr>\n",
              "      <th>4998</th>\n",
              "      <td>@acf3301 True</td>\n",
              "      <td>elonmusk</td>\n",
              "      <td>http://twitter.com/elonmusk/status/11615326122...</td>\n",
              "      <td>&lt;blockquote class=\"twitter-tweet\"&gt;&lt;p lang=\"en\"...</td>\n",
              "      <td>2019-08-14T07:58:00</td>\n",
              "    </tr>\n",
              "    <tr>\n",
              "      <th>4999</th>\n",
              "      <td>heh heh https://t.co/UbHul2wgjM</td>\n",
              "      <td>elonmusk</td>\n",
              "      <td>http://twitter.com/elonmusk/status/11617975416...</td>\n",
              "      <td>&lt;blockquote class=\"twitter-tweet\"&gt;&lt;p lang=\"tl\"...</td>\n",
              "      <td>2019-08-15T01:31:00</td>\n",
              "    </tr>\n",
              "  </tbody>\n",
              "</table>\n",
              "<p>5000 rows × 5 columns</p>\n",
              "</div>"
            ],
            "text/plain": [
              "                                                   text  ...            createdat\n",
              "0     @highqualitysh1t I love the thought of a car d...  ...  2017-12-02T19:33:00\n",
              "1     @novaspivack Asimov's Foundation books should ...  ...  2017-12-02T22:46:00\n",
              "2     @novaspivack That's certainly the right way to...  ...  2017-12-03T00:01:00\n",
              "3     To preserve the transcendent majesty &amp; spe...  ...  2017-12-03T19:05:00\n",
              "4                    @harrisonlingren @JW8888888 Busted  ...  2017-12-03T19:07:00\n",
              "...                                                 ...  ...                  ...\n",
              "4995                                @C3LT_Games Roughly  ...  2019-08-13T17:02:00\n",
              "4996  RT @Tesla: \"I really miss gas stations\" said n...  ...  2019-08-14T02:25:00\n",
              "4997   No but srsly don't do it https://t.co/6kXAdGwWsC  ...  2019-08-14T07:30:00\n",
              "4998                                      @acf3301 True  ...  2019-08-14T07:58:00\n",
              "4999                    heh heh https://t.co/UbHul2wgjM  ...  2019-08-15T01:31:00\n",
              "\n",
              "[5000 rows x 5 columns]"
            ]
          },
          "metadata": {
            "tags": []
          },
          "execution_count": 552
        }
      ]
    },
    {
      "cell_type": "code",
      "metadata": {
        "id": "4Fgrx8b512z9",
        "colab_type": "code",
        "colab": {}
      },
      "source": [
        "sentiments = []\n",
        "for i in range (len(tweets)):\n",
        "  custom_tokens = remove_noise(word_tokenize(str(tweets[\"text\"][i])))\n",
        "  sentiments.append(classifier.classify(dict([token, True] for token in custom_tokens)))"
      ],
      "execution_count": 0,
      "outputs": []
    },
    {
      "cell_type": "code",
      "metadata": {
        "id": "fh5xWSBo6dmX",
        "colab_type": "code",
        "outputId": "74ddce5b-6616-4fef-ef4a-8c1b4cb9edbf",
        "colab": {
          "base_uri": "https://localhost:8080/",
          "height": 187
        }
      },
      "source": [
        "sentiments[:10]"
      ],
      "execution_count": 554,
      "outputs": [
        {
          "output_type": "execute_result",
          "data": {
            "text/plain": [
              "['Positive',\n",
              " 'Negative',\n",
              " 'Negative',\n",
              " 'Negative',\n",
              " 'Negative',\n",
              " 'Positive',\n",
              " 'Negative',\n",
              " 'Positive',\n",
              " 'Negative',\n",
              " 'Negative']"
            ]
          },
          "metadata": {
            "tags": []
          },
          "execution_count": 554
        }
      ]
    },
    {
      "cell_type": "markdown",
      "metadata": {
        "id": "fVBr3X3UljZZ",
        "colab_type": "text"
      },
      "source": [
        "Here, I put the date of each tweet next to its sentiment.  I also had to edit the dates a little so that they were standard accross my two datasets."
      ]
    },
    {
      "cell_type": "code",
      "metadata": {
        "id": "6DNAcdncCNHD",
        "colab_type": "code",
        "outputId": "7a896159-a6c0-4583-9be2-ce73266476d9",
        "colab": {
          "base_uri": "https://localhost:8080/",
          "height": 419
        }
      },
      "source": [
        "import numpy as np\n",
        "\n",
        "dates = [str(i)[0:10] for i in tweets[\"createdat\"]]\n",
        "data = {'Date':dates, 'Sentiment': sentiments}\n",
        "tweet_data = pd.DataFrame(data=data)\n",
        "tweet_data\n"
      ],
      "execution_count": 555,
      "outputs": [
        {
          "output_type": "execute_result",
          "data": {
            "text/html": [
              "<div>\n",
              "<style scoped>\n",
              "    .dataframe tbody tr th:only-of-type {\n",
              "        vertical-align: middle;\n",
              "    }\n",
              "\n",
              "    .dataframe tbody tr th {\n",
              "        vertical-align: top;\n",
              "    }\n",
              "\n",
              "    .dataframe thead th {\n",
              "        text-align: right;\n",
              "    }\n",
              "</style>\n",
              "<table border=\"1\" class=\"dataframe\">\n",
              "  <thead>\n",
              "    <tr style=\"text-align: right;\">\n",
              "      <th></th>\n",
              "      <th>Date</th>\n",
              "      <th>Sentiment</th>\n",
              "    </tr>\n",
              "  </thead>\n",
              "  <tbody>\n",
              "    <tr>\n",
              "      <th>0</th>\n",
              "      <td>2017-12-02</td>\n",
              "      <td>Positive</td>\n",
              "    </tr>\n",
              "    <tr>\n",
              "      <th>1</th>\n",
              "      <td>2017-12-02</td>\n",
              "      <td>Negative</td>\n",
              "    </tr>\n",
              "    <tr>\n",
              "      <th>2</th>\n",
              "      <td>2017-12-03</td>\n",
              "      <td>Negative</td>\n",
              "    </tr>\n",
              "    <tr>\n",
              "      <th>3</th>\n",
              "      <td>2017-12-03</td>\n",
              "      <td>Negative</td>\n",
              "    </tr>\n",
              "    <tr>\n",
              "      <th>4</th>\n",
              "      <td>2017-12-03</td>\n",
              "      <td>Negative</td>\n",
              "    </tr>\n",
              "    <tr>\n",
              "      <th>...</th>\n",
              "      <td>...</td>\n",
              "      <td>...</td>\n",
              "    </tr>\n",
              "    <tr>\n",
              "      <th>4995</th>\n",
              "      <td>2019-08-13</td>\n",
              "      <td>Negative</td>\n",
              "    </tr>\n",
              "    <tr>\n",
              "      <th>4996</th>\n",
              "      <td>2019-08-14</td>\n",
              "      <td>Negative</td>\n",
              "    </tr>\n",
              "    <tr>\n",
              "      <th>4997</th>\n",
              "      <td>2019-08-14</td>\n",
              "      <td>Negative</td>\n",
              "    </tr>\n",
              "    <tr>\n",
              "      <th>4998</th>\n",
              "      <td>2019-08-14</td>\n",
              "      <td>Negative</td>\n",
              "    </tr>\n",
              "    <tr>\n",
              "      <th>4999</th>\n",
              "      <td>2019-08-15</td>\n",
              "      <td>Negative</td>\n",
              "    </tr>\n",
              "  </tbody>\n",
              "</table>\n",
              "<p>5000 rows × 2 columns</p>\n",
              "</div>"
            ],
            "text/plain": [
              "            Date Sentiment\n",
              "0     2017-12-02  Positive\n",
              "1     2017-12-02  Negative\n",
              "2     2017-12-03  Negative\n",
              "3     2017-12-03  Negative\n",
              "4     2017-12-03  Negative\n",
              "...          ...       ...\n",
              "4995  2019-08-13  Negative\n",
              "4996  2019-08-14  Negative\n",
              "4997  2019-08-14  Negative\n",
              "4998  2019-08-14  Negative\n",
              "4999  2019-08-15  Negative\n",
              "\n",
              "[5000 rows x 2 columns]"
            ]
          },
          "metadata": {
            "tags": []
          },
          "execution_count": 555
        }
      ]
    },
    {
      "cell_type": "code",
      "metadata": {
        "id": "OuSqBL7bHNQE",
        "colab_type": "code",
        "outputId": "f56ad9a9-0548-4436-9be0-be5eec8b88c1",
        "colab": {
          "base_uri": "https://localhost:8080/",
          "height": 419
        }
      },
      "source": [
        "stock"
      ],
      "execution_count": 556,
      "outputs": [
        {
          "output_type": "execute_result",
          "data": {
            "text/html": [
              "<div>\n",
              "<style scoped>\n",
              "    .dataframe tbody tr th:only-of-type {\n",
              "        vertical-align: middle;\n",
              "    }\n",
              "\n",
              "    .dataframe tbody tr th {\n",
              "        vertical-align: top;\n",
              "    }\n",
              "\n",
              "    .dataframe thead th {\n",
              "        text-align: right;\n",
              "    }\n",
              "</style>\n",
              "<table border=\"1\" class=\"dataframe\">\n",
              "  <thead>\n",
              "    <tr style=\"text-align: right;\">\n",
              "      <th></th>\n",
              "      <th>Date</th>\n",
              "      <th>Open</th>\n",
              "      <th>High</th>\n",
              "      <th>Low</th>\n",
              "      <th>Close</th>\n",
              "      <th>Adj Close</th>\n",
              "      <th>Volume</th>\n",
              "    </tr>\n",
              "  </thead>\n",
              "  <tbody>\n",
              "    <tr>\n",
              "      <th>0</th>\n",
              "      <td>2010-06-29</td>\n",
              "      <td>19.000000</td>\n",
              "      <td>25.000000</td>\n",
              "      <td>17.540001</td>\n",
              "      <td>23.889999</td>\n",
              "      <td>23.889999</td>\n",
              "      <td>18766300</td>\n",
              "    </tr>\n",
              "    <tr>\n",
              "      <th>1</th>\n",
              "      <td>2010-06-30</td>\n",
              "      <td>25.790001</td>\n",
              "      <td>30.420000</td>\n",
              "      <td>23.299999</td>\n",
              "      <td>23.830000</td>\n",
              "      <td>23.830000</td>\n",
              "      <td>17187100</td>\n",
              "    </tr>\n",
              "    <tr>\n",
              "      <th>2</th>\n",
              "      <td>2010-07-01</td>\n",
              "      <td>25.000000</td>\n",
              "      <td>25.920000</td>\n",
              "      <td>20.270000</td>\n",
              "      <td>21.959999</td>\n",
              "      <td>21.959999</td>\n",
              "      <td>8218800</td>\n",
              "    </tr>\n",
              "    <tr>\n",
              "      <th>3</th>\n",
              "      <td>2010-07-02</td>\n",
              "      <td>23.000000</td>\n",
              "      <td>23.100000</td>\n",
              "      <td>18.709999</td>\n",
              "      <td>19.200001</td>\n",
              "      <td>19.200001</td>\n",
              "      <td>5139800</td>\n",
              "    </tr>\n",
              "    <tr>\n",
              "      <th>4</th>\n",
              "      <td>2010-07-06</td>\n",
              "      <td>20.000000</td>\n",
              "      <td>20.000000</td>\n",
              "      <td>15.830000</td>\n",
              "      <td>16.110001</td>\n",
              "      <td>16.110001</td>\n",
              "      <td>6866900</td>\n",
              "    </tr>\n",
              "    <tr>\n",
              "      <th>...</th>\n",
              "      <td>...</td>\n",
              "      <td>...</td>\n",
              "      <td>...</td>\n",
              "      <td>...</td>\n",
              "      <td>...</td>\n",
              "      <td>...</td>\n",
              "      <td>...</td>\n",
              "    </tr>\n",
              "    <tr>\n",
              "      <th>2411</th>\n",
              "      <td>2020-01-28</td>\n",
              "      <td>568.489990</td>\n",
              "      <td>576.809998</td>\n",
              "      <td>558.080017</td>\n",
              "      <td>566.900024</td>\n",
              "      <td>566.900024</td>\n",
              "      <td>11788500</td>\n",
              "    </tr>\n",
              "    <tr>\n",
              "      <th>2412</th>\n",
              "      <td>2020-01-29</td>\n",
              "      <td>575.690002</td>\n",
              "      <td>589.799988</td>\n",
              "      <td>567.429993</td>\n",
              "      <td>580.989990</td>\n",
              "      <td>580.989990</td>\n",
              "      <td>17801500</td>\n",
              "    </tr>\n",
              "    <tr>\n",
              "      <th>2413</th>\n",
              "      <td>2020-01-30</td>\n",
              "      <td>632.419983</td>\n",
              "      <td>650.880005</td>\n",
              "      <td>618.000000</td>\n",
              "      <td>640.809998</td>\n",
              "      <td>640.809998</td>\n",
              "      <td>29005700</td>\n",
              "    </tr>\n",
              "    <tr>\n",
              "      <th>2414</th>\n",
              "      <td>2020-01-31</td>\n",
              "      <td>640.000000</td>\n",
              "      <td>653.000000</td>\n",
              "      <td>632.520020</td>\n",
              "      <td>650.570007</td>\n",
              "      <td>650.570007</td>\n",
              "      <td>15719300</td>\n",
              "    </tr>\n",
              "    <tr>\n",
              "      <th>2415</th>\n",
              "      <td>2020-02-03</td>\n",
              "      <td>673.690002</td>\n",
              "      <td>786.140015</td>\n",
              "      <td>673.520020</td>\n",
              "      <td>780.000000</td>\n",
              "      <td>780.000000</td>\n",
              "      <td>47065000</td>\n",
              "    </tr>\n",
              "  </tbody>\n",
              "</table>\n",
              "<p>2416 rows × 7 columns</p>\n",
              "</div>"
            ],
            "text/plain": [
              "            Date        Open        High  ...       Close   Adj Close    Volume\n",
              "0     2010-06-29   19.000000   25.000000  ...   23.889999   23.889999  18766300\n",
              "1     2010-06-30   25.790001   30.420000  ...   23.830000   23.830000  17187100\n",
              "2     2010-07-01   25.000000   25.920000  ...   21.959999   21.959999   8218800\n",
              "3     2010-07-02   23.000000   23.100000  ...   19.200001   19.200001   5139800\n",
              "4     2010-07-06   20.000000   20.000000  ...   16.110001   16.110001   6866900\n",
              "...          ...         ...         ...  ...         ...         ...       ...\n",
              "2411  2020-01-28  568.489990  576.809998  ...  566.900024  566.900024  11788500\n",
              "2412  2020-01-29  575.690002  589.799988  ...  580.989990  580.989990  17801500\n",
              "2413  2020-01-30  632.419983  650.880005  ...  640.809998  640.809998  29005700\n",
              "2414  2020-01-31  640.000000  653.000000  ...  650.570007  650.570007  15719300\n",
              "2415  2020-02-03  673.690002  786.140015  ...  780.000000  780.000000  47065000\n",
              "\n",
              "[2416 rows x 7 columns]"
            ]
          },
          "metadata": {
            "tags": []
          },
          "execution_count": 556
        }
      ]
    },
    {
      "cell_type": "markdown",
      "metadata": {
        "id": "1mMDw8COlwUh",
        "colab_type": "text"
      },
      "source": [
        "Here, I first figured out all the days for which the market was open and Elon Musk tweeted.  Then I went through each one of those days and recorded the total number of tweets, the number of positive tweets, and the number of negative tweets."
      ]
    },
    {
      "cell_type": "code",
      "metadata": {
        "id": "Y886Zvj8JRaA",
        "colab_type": "code",
        "outputId": "6da504fb-101f-495d-dcec-7825007471eb",
        "colab": {
          "base_uri": "https://localhost:8080/",
          "height": 419
        }
      },
      "source": [
        "final_dates = []\n",
        "\n",
        "dates2 = [str(i)[0:10] for i in tweet_data[\"Date\"]]\n",
        "\n",
        "for i in range (len(stock[\"Date\"])):\n",
        "  if stock[\"Date\"][i] in dates2:\n",
        "    final_dates.append(stock[\"Date\"][i])\n",
        "\n",
        "count_tot = []\n",
        "count_pos = []\n",
        "count_neg = []\n",
        "stock_change = []\n",
        "for i in range (len(final_dates)):\n",
        "  count_tot.append(dates2.count(final_dates[i]))\n",
        "  a = [k for k,x in enumerate(dates2) if x==final_dates[i]]\n",
        "  pos_counter = 0\n",
        "  neg_counter = 0\n",
        "  for j in a:\n",
        "    if (tweet_data[\"Sentiment\"][j] == 'Positive'):\n",
        "      pos_counter = pos_counter + 1\n",
        "    if (tweet_data[\"Sentiment\"][j] == 'Negative'):\n",
        "      neg_counter = neg_counter + 1\n",
        "  count_pos.append(pos_counter)\n",
        "  count_neg.append(neg_counter)\n",
        "  b = [k for k,x in enumerate(stock['Date']) if x==final_dates[i]]\n",
        "  stock_change.append((stock['Close'][b[0]] - stock['Open'][b[0]])/stock['Open'][b[0]] * 100)\n",
        "\n",
        "data = {'Date':final_dates, 'Number of tweets': count_tot, 'Positive Tweets':count_pos, \"Negative Tweets\":count_neg, \"Stock Change (%)\": stock_change}\n",
        "\n",
        "final_data = pd.DataFrame(data = data)\n",
        "final_data"
      ],
      "execution_count": 557,
      "outputs": [
        {
          "output_type": "execute_result",
          "data": {
            "text/html": [
              "<div>\n",
              "<style scoped>\n",
              "    .dataframe tbody tr th:only-of-type {\n",
              "        vertical-align: middle;\n",
              "    }\n",
              "\n",
              "    .dataframe tbody tr th {\n",
              "        vertical-align: top;\n",
              "    }\n",
              "\n",
              "    .dataframe thead th {\n",
              "        text-align: right;\n",
              "    }\n",
              "</style>\n",
              "<table border=\"1\" class=\"dataframe\">\n",
              "  <thead>\n",
              "    <tr style=\"text-align: right;\">\n",
              "      <th></th>\n",
              "      <th>Date</th>\n",
              "      <th>Number of tweets</th>\n",
              "      <th>Positive Tweets</th>\n",
              "      <th>Negative Tweets</th>\n",
              "      <th>Stock Change (%)</th>\n",
              "    </tr>\n",
              "  </thead>\n",
              "  <tbody>\n",
              "    <tr>\n",
              "      <th>0</th>\n",
              "      <td>2017-12-07</td>\n",
              "      <td>1</td>\n",
              "      <td>0</td>\n",
              "      <td>1</td>\n",
              "      <td>-0.243593</td>\n",
              "    </tr>\n",
              "    <tr>\n",
              "      <th>1</th>\n",
              "      <td>2017-12-08</td>\n",
              "      <td>4</td>\n",
              "      <td>2</td>\n",
              "      <td>2</td>\n",
              "      <td>0.168468</td>\n",
              "    </tr>\n",
              "    <tr>\n",
              "      <th>2</th>\n",
              "      <td>2017-12-11</td>\n",
              "      <td>6</td>\n",
              "      <td>2</td>\n",
              "      <td>4</td>\n",
              "      <td>4.538664</td>\n",
              "    </tr>\n",
              "    <tr>\n",
              "      <th>3</th>\n",
              "      <td>2017-12-12</td>\n",
              "      <td>1</td>\n",
              "      <td>0</td>\n",
              "      <td>1</td>\n",
              "      <td>3.201691</td>\n",
              "    </tr>\n",
              "    <tr>\n",
              "      <th>4</th>\n",
              "      <td>2017-12-13</td>\n",
              "      <td>2</td>\n",
              "      <td>2</td>\n",
              "      <td>0</td>\n",
              "      <td>-0.557297</td>\n",
              "    </tr>\n",
              "    <tr>\n",
              "      <th>...</th>\n",
              "      <td>...</td>\n",
              "      <td>...</td>\n",
              "      <td>...</td>\n",
              "      <td>...</td>\n",
              "      <td>...</td>\n",
              "    </tr>\n",
              "    <tr>\n",
              "      <th>381</th>\n",
              "      <td>2019-08-08</td>\n",
              "      <td>7</td>\n",
              "      <td>5</td>\n",
              "      <td>2</td>\n",
              "      <td>1.642144</td>\n",
              "    </tr>\n",
              "    <tr>\n",
              "      <th>382</th>\n",
              "      <td>2019-08-09</td>\n",
              "      <td>19</td>\n",
              "      <td>13</td>\n",
              "      <td>6</td>\n",
              "      <td>-0.440588</td>\n",
              "    </tr>\n",
              "    <tr>\n",
              "      <th>383</th>\n",
              "      <td>2019-08-13</td>\n",
              "      <td>1</td>\n",
              "      <td>0</td>\n",
              "      <td>1</td>\n",
              "      <td>2.705302</td>\n",
              "    </tr>\n",
              "    <tr>\n",
              "      <th>384</th>\n",
              "      <td>2019-08-14</td>\n",
              "      <td>3</td>\n",
              "      <td>0</td>\n",
              "      <td>3</td>\n",
              "      <td>-5.012764</td>\n",
              "    </tr>\n",
              "    <tr>\n",
              "      <th>385</th>\n",
              "      <td>2019-08-15</td>\n",
              "      <td>1</td>\n",
              "      <td>0</td>\n",
              "      <td>1</td>\n",
              "      <td>-2.363489</td>\n",
              "    </tr>\n",
              "  </tbody>\n",
              "</table>\n",
              "<p>386 rows × 5 columns</p>\n",
              "</div>"
            ],
            "text/plain": [
              "           Date  Number of tweets  ...  Negative Tweets  Stock Change (%)\n",
              "0    2017-12-07                 1  ...                1         -0.243593\n",
              "1    2017-12-08                 4  ...                2          0.168468\n",
              "2    2017-12-11                 6  ...                4          4.538664\n",
              "3    2017-12-12                 1  ...                1          3.201691\n",
              "4    2017-12-13                 2  ...                0         -0.557297\n",
              "..          ...               ...  ...              ...               ...\n",
              "381  2019-08-08                 7  ...                2          1.642144\n",
              "382  2019-08-09                19  ...                6         -0.440588\n",
              "383  2019-08-13                 1  ...                1          2.705302\n",
              "384  2019-08-14                 3  ...                3         -5.012764\n",
              "385  2019-08-15                 1  ...                1         -2.363489\n",
              "\n",
              "[386 rows x 5 columns]"
            ]
          },
          "metadata": {
            "tags": []
          },
          "execution_count": 557
        }
      ]
    },
    {
      "cell_type": "markdown",
      "metadata": {
        "id": "7fg0rKU8mENO",
        "colab_type": "text"
      },
      "source": [
        "Upon first glance, there doesn't seem to be much of a connection between the tweets and the stock price."
      ]
    },
    {
      "cell_type": "code",
      "metadata": {
        "id": "nKiUHAUY0YIu",
        "colab_type": "code",
        "colab": {
          "base_uri": "https://localhost:8080/",
          "height": 825
        },
        "outputId": "34abab52-b770-488d-e5d3-ff07a50a6c9a"
      },
      "source": [
        "pd.plotting.scatter_matrix(final_data, alpha=0.5, figsize=(14, 14))\n",
        "plt.show()"
      ],
      "execution_count": 558,
      "outputs": [
        {
          "output_type": "display_data",
          "data": {
            "image/png": "[encoded data removed]",
            "text/plain": [
              "<Figure size 1008x1008 with 16 Axes>"
            ]
          },
          "metadata": {
            "tags": []
          }
        }
      ]
    },
    {
      "cell_type": "code",
      "metadata": {
        "id": "rMo_B_a90vqL",
        "colab_type": "code",
        "colab": {
          "base_uri": "https://localhost:8080/",
          "height": 275
        },
        "outputId": "242d7f11-b220-49ae-c788-ed25152ba905"
      },
      "source": [
        "plt.matshow(final_data.corr())\n",
        "plt.show()"
      ],
      "execution_count": 559,
      "outputs": [
        {
          "output_type": "display_data",
          "data": {
            "image/png": "[encoded data removed]",
            "text/plain": [
              "<Figure size 288x288 with 1 Axes>"
            ]
          },
          "metadata": {
            "tags": []
          }
        }
      ]
    },
    {
      "cell_type": "markdown",
      "metadata": {
        "id": "QXOmCvORmP8v",
        "colab_type": "text"
      },
      "source": [
        "Here, I performed a linear regression, using the tweet data to predict the change in stock price."
      ]
    },
    {
      "cell_type": "code",
      "metadata": {
        "id": "W3DSu70a1cIe",
        "colab_type": "code",
        "colab": {
          "base_uri": "https://localhost:8080/",
          "height": 419
        },
        "outputId": "8f1be066-19db-4f99-924c-358fe016ab23"
      },
      "source": [
        "from sklearn.model_selection import train_test_split\n",
        "from sklearn.linear_model import LinearRegression\n",
        "\n",
        "x = final_data[ ['Number of tweets','Positive Tweets','Negative Tweets'] ]\n",
        "y = final_data['Stock Change (%)']\n",
        "\n",
        "x_train, x_test, y_train, y_test = train_test_split(x, y, test_size = 0.2, random_state = 0)\n",
        "\n",
        "regressor = LinearRegression()\n",
        "regressor.fit(x_train, y_train)\n",
        "\n",
        "y_pred = regressor.predict(x_test)\n",
        "\n",
        "results = pd.DataFrame({'Actual': y_test, 'Predicted': y_pred})\n",
        "results\n"
      ],
      "execution_count": 560,
      "outputs": [
        {
          "output_type": "execute_result",
          "data": {
            "text/html": [
              "<div>\n",
              "<style scoped>\n",
              "    .dataframe tbody tr th:only-of-type {\n",
              "        vertical-align: middle;\n",
              "    }\n",
              "\n",
              "    .dataframe tbody tr th {\n",
              "        vertical-align: top;\n",
              "    }\n",
              "\n",
              "    .dataframe thead th {\n",
              "        text-align: right;\n",
              "    }\n",
              "</style>\n",
              "<table border=\"1\" class=\"dataframe\">\n",
              "  <thead>\n",
              "    <tr style=\"text-align: right;\">\n",
              "      <th></th>\n",
              "      <th>Actual</th>\n",
              "      <th>Predicted</th>\n",
              "    </tr>\n",
              "  </thead>\n",
              "  <tbody>\n",
              "    <tr>\n",
              "      <th>260</th>\n",
              "      <td>-0.335690</td>\n",
              "      <td>0.126348</td>\n",
              "    </tr>\n",
              "    <tr>\n",
              "      <th>320</th>\n",
              "      <td>-0.850411</td>\n",
              "      <td>-0.031755</td>\n",
              "    </tr>\n",
              "    <tr>\n",
              "      <th>144</th>\n",
              "      <td>-0.941769</td>\n",
              "      <td>0.076369</td>\n",
              "    </tr>\n",
              "    <tr>\n",
              "      <th>52</th>\n",
              "      <td>-1.475070</td>\n",
              "      <td>-0.073300</td>\n",
              "    </tr>\n",
              "    <tr>\n",
              "      <th>210</th>\n",
              "      <td>6.461538</td>\n",
              "      <td>0.051514</td>\n",
              "    </tr>\n",
              "    <tr>\n",
              "      <th>...</th>\n",
              "      <td>...</td>\n",
              "      <td>...</td>\n",
              "    </tr>\n",
              "    <tr>\n",
              "      <th>302</th>\n",
              "      <td>-0.245715</td>\n",
              "      <td>-0.015066</td>\n",
              "    </tr>\n",
              "    <tr>\n",
              "      <th>327</th>\n",
              "      <td>-4.924314</td>\n",
              "      <td>-0.031755</td>\n",
              "    </tr>\n",
              "    <tr>\n",
              "      <th>329</th>\n",
              "      <td>-3.199402</td>\n",
              "      <td>0.051424</td>\n",
              "    </tr>\n",
              "    <tr>\n",
              "      <th>246</th>\n",
              "      <td>-6.421050</td>\n",
              "      <td>0.043079</td>\n",
              "    </tr>\n",
              "    <tr>\n",
              "      <th>344</th>\n",
              "      <td>1.737277</td>\n",
              "      <td>-0.065045</td>\n",
              "    </tr>\n",
              "  </tbody>\n",
              "</table>\n",
              "<p>78 rows × 2 columns</p>\n",
              "</div>"
            ],
            "text/plain": [
              "       Actual  Predicted\n",
              "260 -0.335690   0.126348\n",
              "320 -0.850411  -0.031755\n",
              "144 -0.941769   0.076369\n",
              "52  -1.475070  -0.073300\n",
              "210  6.461538   0.051514\n",
              "..        ...        ...\n",
              "302 -0.245715  -0.015066\n",
              "327 -4.924314  -0.031755\n",
              "329 -3.199402   0.051424\n",
              "246 -6.421050   0.043079\n",
              "344  1.737277  -0.065045\n",
              "\n",
              "[78 rows x 2 columns]"
            ]
          },
          "metadata": {
            "tags": []
          },
          "execution_count": 560
        }
      ]
    },
    {
      "cell_type": "markdown",
      "metadata": {
        "id": "36WemE4Rmc0k",
        "colab_type": "text"
      },
      "source": [
        "Since it really only matters if the stock goes up or down, not by how much, here I switched the predicted data to categorical."
      ]
    },
    {
      "cell_type": "code",
      "metadata": {
        "id": "oqs2YEw627or",
        "colab_type": "code",
        "colab": {
          "base_uri": "https://localhost:8080/",
          "height": 419
        },
        "outputId": "a7f082a9-185b-4e81-ad11-4b88c1325c8d"
      },
      "source": [
        "pred_cat = []\n",
        "for i in range (len(y_pred)):\n",
        "  if (results['Predicted'].iloc[i] > 0):\n",
        "    pred_cat.append('Up')\n",
        "  else:\n",
        "    pred_cat.append('Down')\n",
        "\n",
        "results_cat = pd.DataFrame({'Actual': y_test, 'Predicted': pred_cat})\n",
        "results_cat"
      ],
      "execution_count": 561,
      "outputs": [
        {
          "output_type": "execute_result",
          "data": {
            "text/html": [
              "<div>\n",
              "<style scoped>\n",
              "    .dataframe tbody tr th:only-of-type {\n",
              "        vertical-align: middle;\n",
              "    }\n",
              "\n",
              "    .dataframe tbody tr th {\n",
              "        vertical-align: top;\n",
              "    }\n",
              "\n",
              "    .dataframe thead th {\n",
              "        text-align: right;\n",
              "    }\n",
              "</style>\n",
              "<table border=\"1\" class=\"dataframe\">\n",
              "  <thead>\n",
              "    <tr style=\"text-align: right;\">\n",
              "      <th></th>\n",
              "      <th>Actual</th>\n",
              "      <th>Predicted</th>\n",
              "    </tr>\n",
              "  </thead>\n",
              "  <tbody>\n",
              "    <tr>\n",
              "      <th>260</th>\n",
              "      <td>-0.335690</td>\n",
              "      <td>Up</td>\n",
              "    </tr>\n",
              "    <tr>\n",
              "      <th>320</th>\n",
              "      <td>-0.850411</td>\n",
              "      <td>Down</td>\n",
              "    </tr>\n",
              "    <tr>\n",
              "      <th>144</th>\n",
              "      <td>-0.941769</td>\n",
              "      <td>Up</td>\n",
              "    </tr>\n",
              "    <tr>\n",
              "      <th>52</th>\n",
              "      <td>-1.475070</td>\n",
              "      <td>Down</td>\n",
              "    </tr>\n",
              "    <tr>\n",
              "      <th>210</th>\n",
              "      <td>6.461538</td>\n",
              "      <td>Up</td>\n",
              "    </tr>\n",
              "    <tr>\n",
              "      <th>...</th>\n",
              "      <td>...</td>\n",
              "      <td>...</td>\n",
              "    </tr>\n",
              "    <tr>\n",
              "      <th>302</th>\n",
              "      <td>-0.245715</td>\n",
              "      <td>Down</td>\n",
              "    </tr>\n",
              "    <tr>\n",
              "      <th>327</th>\n",
              "      <td>-4.924314</td>\n",
              "      <td>Down</td>\n",
              "    </tr>\n",
              "    <tr>\n",
              "      <th>329</th>\n",
              "      <td>-3.199402</td>\n",
              "      <td>Up</td>\n",
              "    </tr>\n",
              "    <tr>\n",
              "      <th>246</th>\n",
              "      <td>-6.421050</td>\n",
              "      <td>Up</td>\n",
              "    </tr>\n",
              "    <tr>\n",
              "      <th>344</th>\n",
              "      <td>1.737277</td>\n",
              "      <td>Down</td>\n",
              "    </tr>\n",
              "  </tbody>\n",
              "</table>\n",
              "<p>78 rows × 2 columns</p>\n",
              "</div>"
            ],
            "text/plain": [
              "       Actual Predicted\n",
              "260 -0.335690        Up\n",
              "320 -0.850411      Down\n",
              "144 -0.941769        Up\n",
              "52  -1.475070      Down\n",
              "210  6.461538        Up\n",
              "..        ...       ...\n",
              "302 -0.245715      Down\n",
              "327 -4.924314      Down\n",
              "329 -3.199402        Up\n",
              "246 -6.421050        Up\n",
              "344  1.737277      Down\n",
              "\n",
              "[78 rows x 2 columns]"
            ]
          },
          "metadata": {
            "tags": []
          },
          "execution_count": 561
        }
      ]
    },
    {
      "cell_type": "markdown",
      "metadata": {
        "id": "TvPFDvNImrpe",
        "colab_type": "text"
      },
      "source": [
        "Then, I found the accuracy.  It was pretty low."
      ]
    },
    {
      "cell_type": "code",
      "metadata": {
        "id": "HBgqYcpM5rZv",
        "colab_type": "code",
        "colab": {
          "base_uri": "https://localhost:8080/",
          "height": 34
        },
        "outputId": "9ead5a37-be43-4b22-e8d7-9f453cfd3bba"
      },
      "source": [
        "right = 0\n",
        "for i in range (len(pred_cat)):\n",
        "  if (results_cat['Actual'].iloc[i] > 0) and (results_cat['Predicted'].iloc[i] == 'Up'):\n",
        "    right = right + 1\n",
        "  if (results_cat['Actual'].iloc[i] < 0) and (results_cat['Predicted'].iloc[i] == 'Down'):\n",
        "    right = right + 1\n",
        "\n",
        "print(\"Accuracy =\", right/len(pred_cat))"
      ],
      "execution_count": 562,
      "outputs": [
        {
          "output_type": "stream",
          "text": [
            "Accuracy = 0.48717948717948717\n"
          ],
          "name": "stdout"
        }
      ]
    },
    {
      "cell_type": "markdown",
      "metadata": {
        "id": "s6NlaSagm1aJ",
        "colab_type": "text"
      },
      "source": [
        "This code repreats the whole process 100 times and reports the average accuracy.  Usually, that values is below 0.5, meaning this model is actually worse than just guessing."
      ]
    },
    {
      "cell_type": "code",
      "metadata": {
        "id": "HdtgEPWdmYfW",
        "colab_type": "code",
        "colab": {
          "base_uri": "https://localhost:8080/",
          "height": 34
        },
        "outputId": "23893dce-5c1a-4b1e-8998-158ba9a2015f"
      },
      "source": [
        "N = 100\n",
        "\n",
        "accuracies = []\n",
        "\n",
        "for i in range (N):\n",
        "\n",
        "  x = final_data[ ['Number of tweets','Positive Tweets','Negative Tweets'] ]\n",
        "  y = final_data['Stock Change (%)']\n",
        "\n",
        "  x_train, x_test, y_train, y_test = train_test_split(x, y, test_size = 0.2, random_state = i**2)\n",
        "\n",
        "  regressor = LinearRegression()\n",
        "  regressor.fit(x_train, y_train)\n",
        "\n",
        "  y_pred = regressor.predict(x_test)\n",
        "\n",
        "  results = pd.DataFrame({'Actual': y_test, 'Predicted': y_pred})\n",
        "\n",
        "  pred_cat = []\n",
        "  for i in range (len(y_pred)):\n",
        "    if (results['Predicted'].iloc[i] > 0):\n",
        "      pred_cat.append('Up')\n",
        "    else:\n",
        "      pred_cat.append('Down')\n",
        "\n",
        "  results_cat = pd.DataFrame({'Actual': y_test, 'Predicted': pred_cat})\n",
        "\n",
        "  right = 0\n",
        "  for i in range (len(pred_cat)):\n",
        "    if (results_cat['Actual'].iloc[i] > 0) and (results_cat['Predicted'].iloc[i] == 'Up'):\n",
        "      right = right + 1\n",
        "    if (results_cat['Actual'].iloc[i] < 0) and (results_cat['Predicted'].iloc[i] == 'Down'):\n",
        "      right = right + 1\n",
        "  \n",
        "  accuracies.append(right/len(pred_cat))\n",
        "\n",
        "np.mean(accuracies)"
      ],
      "execution_count": 563,
      "outputs": [
        {
          "output_type": "execute_result",
          "data": {
            "text/plain": [
              "0.4605128205128206"
            ]
          },
          "metadata": {
            "tags": []
          },
          "execution_count": 563
        }
      ]
    },
    {
      "cell_type": "markdown",
      "metadata": {
        "id": "00x8J3nbnFSg",
        "colab_type": "text"
      },
      "source": [
        "I thought maybe relatively uneventful days could be throwing things off, so I removed any days in which the stock price changed by less than 1%."
      ]
    },
    {
      "cell_type": "code",
      "metadata": {
        "id": "R8t0JBKXhzOu",
        "colab_type": "code",
        "colab": {
          "base_uri": "https://localhost:8080/",
          "height": 419
        },
        "outputId": "4c876f2c-12b9-469b-df99-808b2dab68b7"
      },
      "source": [
        "final_data"
      ],
      "execution_count": 564,
      "outputs": [
        {
          "output_type": "execute_result",
          "data": {
            "text/html": [
              "<div>\n",
              "<style scoped>\n",
              "    .dataframe tbody tr th:only-of-type {\n",
              "        vertical-align: middle;\n",
              "    }\n",
              "\n",
              "    .dataframe tbody tr th {\n",
              "        vertical-align: top;\n",
              "    }\n",
              "\n",
              "    .dataframe thead th {\n",
              "        text-align: right;\n",
              "    }\n",
              "</style>\n",
              "<table border=\"1\" class=\"dataframe\">\n",
              "  <thead>\n",
              "    <tr style=\"text-align: right;\">\n",
              "      <th></th>\n",
              "      <th>Date</th>\n",
              "      <th>Number of tweets</th>\n",
              "      <th>Positive Tweets</th>\n",
              "      <th>Negative Tweets</th>\n",
              "      <th>Stock Change (%)</th>\n",
              "    </tr>\n",
              "  </thead>\n",
              "  <tbody>\n",
              "    <tr>\n",
              "      <th>0</th>\n",
              "      <td>2017-12-07</td>\n",
              "      <td>1</td>\n",
              "      <td>0</td>\n",
              "      <td>1</td>\n",
              "      <td>-0.243593</td>\n",
              "    </tr>\n",
              "    <tr>\n",
              "      <th>1</th>\n",
              "      <td>2017-12-08</td>\n",
              "      <td>4</td>\n",
              "      <td>2</td>\n",
              "      <td>2</td>\n",
              "      <td>0.168468</td>\n",
              "    </tr>\n",
              "    <tr>\n",
              "      <th>2</th>\n",
              "      <td>2017-12-11</td>\n",
              "      <td>6</td>\n",
              "      <td>2</td>\n",
              "      <td>4</td>\n",
              "      <td>4.538664</td>\n",
              "    </tr>\n",
              "    <tr>\n",
              "      <th>3</th>\n",
              "      <td>2017-12-12</td>\n",
              "      <td>1</td>\n",
              "      <td>0</td>\n",
              "      <td>1</td>\n",
              "      <td>3.201691</td>\n",
              "    </tr>\n",
              "    <tr>\n",
              "      <th>4</th>\n",
              "      <td>2017-12-13</td>\n",
              "      <td>2</td>\n",
              "      <td>2</td>\n",
              "      <td>0</td>\n",
              "      <td>-0.557297</td>\n",
              "    </tr>\n",
              "    <tr>\n",
              "      <th>...</th>\n",
              "      <td>...</td>\n",
              "      <td>...</td>\n",
              "      <td>...</td>\n",
              "      <td>...</td>\n",
              "      <td>...</td>\n",
              "    </tr>\n",
              "    <tr>\n",
              "      <th>381</th>\n",
              "      <td>2019-08-08</td>\n",
              "      <td>7</td>\n",
              "      <td>5</td>\n",
              "      <td>2</td>\n",
              "      <td>1.642144</td>\n",
              "    </tr>\n",
              "    <tr>\n",
              "      <th>382</th>\n",
              "      <td>2019-08-09</td>\n",
              "      <td>19</td>\n",
              "      <td>13</td>\n",
              "      <td>6</td>\n",
              "      <td>-0.440588</td>\n",
              "    </tr>\n",
              "    <tr>\n",
              "      <th>383</th>\n",
              "      <td>2019-08-13</td>\n",
              "      <td>1</td>\n",
              "      <td>0</td>\n",
              "      <td>1</td>\n",
              "      <td>2.705302</td>\n",
              "    </tr>\n",
              "    <tr>\n",
              "      <th>384</th>\n",
              "      <td>2019-08-14</td>\n",
              "      <td>3</td>\n",
              "      <td>0</td>\n",
              "      <td>3</td>\n",
              "      <td>-5.012764</td>\n",
              "    </tr>\n",
              "    <tr>\n",
              "      <th>385</th>\n",
              "      <td>2019-08-15</td>\n",
              "      <td>1</td>\n",
              "      <td>0</td>\n",
              "      <td>1</td>\n",
              "      <td>-2.363489</td>\n",
              "    </tr>\n",
              "  </tbody>\n",
              "</table>\n",
              "<p>386 rows × 5 columns</p>\n",
              "</div>"
            ],
            "text/plain": [
              "           Date  Number of tweets  ...  Negative Tweets  Stock Change (%)\n",
              "0    2017-12-07                 1  ...                1         -0.243593\n",
              "1    2017-12-08                 4  ...                2          0.168468\n",
              "2    2017-12-11                 6  ...                4          4.538664\n",
              "3    2017-12-12                 1  ...                1          3.201691\n",
              "4    2017-12-13                 2  ...                0         -0.557297\n",
              "..          ...               ...  ...              ...               ...\n",
              "381  2019-08-08                 7  ...                2          1.642144\n",
              "382  2019-08-09                19  ...                6         -0.440588\n",
              "383  2019-08-13                 1  ...                1          2.705302\n",
              "384  2019-08-14                 3  ...                3         -5.012764\n",
              "385  2019-08-15                 1  ...                1         -2.363489\n",
              "\n",
              "[386 rows x 5 columns]"
            ]
          },
          "metadata": {
            "tags": []
          },
          "execution_count": 564
        }
      ]
    },
    {
      "cell_type": "code",
      "metadata": {
        "id": "Q8fVMv5_iLdB",
        "colab_type": "code",
        "colab": {
          "base_uri": "https://localhost:8080/",
          "height": 419
        },
        "outputId": "3cccdfbf-7d82-456f-ecd2-4b21ba9f29c5"
      },
      "source": [
        "dropped = []\n",
        "for i in range(len(final_data)):\n",
        "  if (abs(final_data[\"Stock Change (%)\"][i]) < 1):\n",
        "    dropped.append(i)\n",
        "\n",
        "final_data2 = final_data.drop(dropped)\n",
        "final_data2"
      ],
      "execution_count": 565,
      "outputs": [
        {
          "output_type": "execute_result",
          "data": {
            "text/html": [
              "<div>\n",
              "<style scoped>\n",
              "    .dataframe tbody tr th:only-of-type {\n",
              "        vertical-align: middle;\n",
              "    }\n",
              "\n",
              "    .dataframe tbody tr th {\n",
              "        vertical-align: top;\n",
              "    }\n",
              "\n",
              "    .dataframe thead th {\n",
              "        text-align: right;\n",
              "    }\n",
              "</style>\n",
              "<table border=\"1\" class=\"dataframe\">\n",
              "  <thead>\n",
              "    <tr style=\"text-align: right;\">\n",
              "      <th></th>\n",
              "      <th>Date</th>\n",
              "      <th>Number of tweets</th>\n",
              "      <th>Positive Tweets</th>\n",
              "      <th>Negative Tweets</th>\n",
              "      <th>Stock Change (%)</th>\n",
              "    </tr>\n",
              "  </thead>\n",
              "  <tbody>\n",
              "    <tr>\n",
              "      <th>2</th>\n",
              "      <td>2017-12-11</td>\n",
              "      <td>6</td>\n",
              "      <td>2</td>\n",
              "      <td>4</td>\n",
              "      <td>4.538664</td>\n",
              "    </tr>\n",
              "    <tr>\n",
              "      <th>3</th>\n",
              "      <td>2017-12-12</td>\n",
              "      <td>1</td>\n",
              "      <td>0</td>\n",
              "      <td>1</td>\n",
              "      <td>3.201691</td>\n",
              "    </tr>\n",
              "    <tr>\n",
              "      <th>7</th>\n",
              "      <td>2017-12-18</td>\n",
              "      <td>2</td>\n",
              "      <td>1</td>\n",
              "      <td>1</td>\n",
              "      <td>-1.748333</td>\n",
              "    </tr>\n",
              "    <tr>\n",
              "      <th>8</th>\n",
              "      <td>2017-12-19</td>\n",
              "      <td>2</td>\n",
              "      <td>1</td>\n",
              "      <td>1</td>\n",
              "      <td>-2.692060</td>\n",
              "    </tr>\n",
              "    <tr>\n",
              "      <th>9</th>\n",
              "      <td>2017-12-20</td>\n",
              "      <td>7</td>\n",
              "      <td>2</td>\n",
              "      <td>5</td>\n",
              "      <td>-1.115150</td>\n",
              "    </tr>\n",
              "    <tr>\n",
              "      <th>...</th>\n",
              "      <td>...</td>\n",
              "      <td>...</td>\n",
              "      <td>...</td>\n",
              "      <td>...</td>\n",
              "      <td>...</td>\n",
              "    </tr>\n",
              "    <tr>\n",
              "      <th>380</th>\n",
              "      <td>2019-08-07</td>\n",
              "      <td>11</td>\n",
              "      <td>6</td>\n",
              "      <td>5</td>\n",
              "      <td>3.055187</td>\n",
              "    </tr>\n",
              "    <tr>\n",
              "      <th>381</th>\n",
              "      <td>2019-08-08</td>\n",
              "      <td>7</td>\n",
              "      <td>5</td>\n",
              "      <td>2</td>\n",
              "      <td>1.642144</td>\n",
              "    </tr>\n",
              "    <tr>\n",
              "      <th>383</th>\n",
              "      <td>2019-08-13</td>\n",
              "      <td>1</td>\n",
              "      <td>0</td>\n",
              "      <td>1</td>\n",
              "      <td>2.705302</td>\n",
              "    </tr>\n",
              "    <tr>\n",
              "      <th>384</th>\n",
              "      <td>2019-08-14</td>\n",
              "      <td>3</td>\n",
              "      <td>0</td>\n",
              "      <td>3</td>\n",
              "      <td>-5.012764</td>\n",
              "    </tr>\n",
              "    <tr>\n",
              "      <th>385</th>\n",
              "      <td>2019-08-15</td>\n",
              "      <td>1</td>\n",
              "      <td>0</td>\n",
              "      <td>1</td>\n",
              "      <td>-2.363489</td>\n",
              "    </tr>\n",
              "  </tbody>\n",
              "</table>\n",
              "<p>251 rows × 5 columns</p>\n",
              "</div>"
            ],
            "text/plain": [
              "           Date  Number of tweets  ...  Negative Tweets  Stock Change (%)\n",
              "2    2017-12-11                 6  ...                4          4.538664\n",
              "3    2017-12-12                 1  ...                1          3.201691\n",
              "7    2017-12-18                 2  ...                1         -1.748333\n",
              "8    2017-12-19                 2  ...                1         -2.692060\n",
              "9    2017-12-20                 7  ...                5         -1.115150\n",
              "..          ...               ...  ...              ...               ...\n",
              "380  2019-08-07                11  ...                5          3.055187\n",
              "381  2019-08-08                 7  ...                2          1.642144\n",
              "383  2019-08-13                 1  ...                1          2.705302\n",
              "384  2019-08-14                 3  ...                3         -5.012764\n",
              "385  2019-08-15                 1  ...                1         -2.363489\n",
              "\n",
              "[251 rows x 5 columns]"
            ]
          },
          "metadata": {
            "tags": []
          },
          "execution_count": 565
        }
      ]
    },
    {
      "cell_type": "code",
      "metadata": {
        "id": "ZRjpx8Pzk2WD",
        "colab_type": "code",
        "colab": {
          "base_uri": "https://localhost:8080/",
          "height": 825
        },
        "outputId": "26f54f45-8038-4ae5-b9d7-b5ef2a2338be"
      },
      "source": [
        "pd.plotting.scatter_matrix(final_data2, alpha=0.5, figsize=(14, 14))\n",
        "plt.show()"
      ],
      "execution_count": 566,
      "outputs": [
        {
          "output_type": "display_data",
          "data": {
            "image/png": "[encoded data removed]",
            "text/plain": [
              "<Figure size 1008x1008 with 16 Axes>"
            ]
          },
          "metadata": {
            "tags": []
          }
        }
      ]
    },
    {
      "cell_type": "code",
      "metadata": {
        "id": "2diOL9RjlCfU",
        "colab_type": "code",
        "colab": {
          "base_uri": "https://localhost:8080/",
          "height": 275
        },
        "outputId": "3449f94a-43b3-4f79-ff1b-23f5b6bb8b94"
      },
      "source": [
        "plt.matshow(final_data2.corr())\n",
        "plt.show()"
      ],
      "execution_count": 567,
      "outputs": [
        {
          "output_type": "display_data",
          "data": {
            "image/png": "[encoded data removed]",
            "text/plain": [
              "<Figure size 288x288 with 1 Axes>"
            ]
          },
          "metadata": {
            "tags": []
          }
        }
      ]
    },
    {
      "cell_type": "code",
      "metadata": {
        "id": "yqzYFvrklHUC",
        "colab_type": "code",
        "colab": {
          "base_uri": "https://localhost:8080/",
          "height": 359
        },
        "outputId": "fa715d52-44c6-4cf0-8d70-e44dca874dbf"
      },
      "source": [
        "x = final_data2[ ['Number of tweets','Positive Tweets','Negative Tweets'] ]\n",
        "y = final_data2['Stock Change (%)']\n",
        "\n",
        "x_train, x_test, y_train, y_test = train_test_split(x, y, test_size = 0.2, random_state = 1)\n",
        "\n",
        "regressor = LinearRegression()\n",
        "regressor.fit(x_train, y_train)\n",
        "\n",
        "y_pred = regressor.predict(x_test)\n",
        "\n",
        "results = pd.DataFrame({'Actual': y_test, 'Predicted': y_pred})\n",
        "results[:10]"
      ],
      "execution_count": 568,
      "outputs": [
        {
          "output_type": "execute_result",
          "data": {
            "text/html": [
              "<div>\n",
              "<style scoped>\n",
              "    .dataframe tbody tr th:only-of-type {\n",
              "        vertical-align: middle;\n",
              "    }\n",
              "\n",
              "    .dataframe tbody tr th {\n",
              "        vertical-align: top;\n",
              "    }\n",
              "\n",
              "    .dataframe thead th {\n",
              "        text-align: right;\n",
              "    }\n",
              "</style>\n",
              "<table border=\"1\" class=\"dataframe\">\n",
              "  <thead>\n",
              "    <tr style=\"text-align: right;\">\n",
              "      <th></th>\n",
              "      <th>Actual</th>\n",
              "      <th>Predicted</th>\n",
              "    </tr>\n",
              "  </thead>\n",
              "  <tbody>\n",
              "    <tr>\n",
              "      <th>108</th>\n",
              "      <td>-5.094727</td>\n",
              "      <td>-0.522042</td>\n",
              "    </tr>\n",
              "    <tr>\n",
              "      <th>385</th>\n",
              "      <td>-2.363489</td>\n",
              "      <td>0.342184</td>\n",
              "    </tr>\n",
              "    <tr>\n",
              "      <th>353</th>\n",
              "      <td>1.544771</td>\n",
              "      <td>-0.024768</td>\n",
              "    </tr>\n",
              "    <tr>\n",
              "      <th>243</th>\n",
              "      <td>2.814923</td>\n",
              "      <td>0.179753</td>\n",
              "    </tr>\n",
              "    <tr>\n",
              "      <th>143</th>\n",
              "      <td>-3.015761</td>\n",
              "      <td>0.388323</td>\n",
              "    </tr>\n",
              "    <tr>\n",
              "      <th>344</th>\n",
              "      <td>1.737277</td>\n",
              "      <td>0.063462</td>\n",
              "    </tr>\n",
              "    <tr>\n",
              "      <th>95</th>\n",
              "      <td>-2.206922</td>\n",
              "      <td>0.550753</td>\n",
              "    </tr>\n",
              "    <tr>\n",
              "      <th>357</th>\n",
              "      <td>-1.875603</td>\n",
              "      <td>0.137662</td>\n",
              "    </tr>\n",
              "    <tr>\n",
              "      <th>276</th>\n",
              "      <td>-1.936167</td>\n",
              "      <td>0.225892</td>\n",
              "    </tr>\n",
              "    <tr>\n",
              "      <th>9</th>\n",
              "      <td>-1.115150</td>\n",
              "      <td>0.462523</td>\n",
              "    </tr>\n",
              "  </tbody>\n",
              "</table>\n",
              "</div>"
            ],
            "text/plain": [
              "       Actual  Predicted\n",
              "108 -5.094727  -0.522042\n",
              "385 -2.363489   0.342184\n",
              "353  1.544771  -0.024768\n",
              "243  2.814923   0.179753\n",
              "143 -3.015761   0.388323\n",
              "344  1.737277   0.063462\n",
              "95  -2.206922   0.550753\n",
              "357 -1.875603   0.137662\n",
              "276 -1.936167   0.225892\n",
              "9   -1.115150   0.462523"
            ]
          },
          "metadata": {
            "tags": []
          },
          "execution_count": 568
        }
      ]
    },
    {
      "cell_type": "code",
      "metadata": {
        "id": "mQkV5ho6lgar",
        "colab_type": "code",
        "colab": {
          "base_uri": "https://localhost:8080/",
          "height": 34
        },
        "outputId": "c88dd729-8472-4f83-92d8-9b5842ac13e6"
      },
      "source": [
        "pred_cat = []\n",
        "for i in range (len(y_pred)):\n",
        "  if (results['Predicted'].iloc[i] > 0):\n",
        "    pred_cat.append('Up')\n",
        "  else:\n",
        "    pred_cat.append('Down')\n",
        "\n",
        "results_cat = pd.DataFrame({'Actual': y_test, 'Predicted': pred_cat})\n",
        "\n",
        "right = 0\n",
        "for i in range (len(pred_cat)):\n",
        "  if (results_cat['Actual'].iloc[i] > 0) and (results_cat['Predicted'].iloc[i] == 'Up'):\n",
        "    right = right + 1\n",
        "  if (results_cat['Actual'].iloc[i] < 0) and (results_cat['Predicted'].iloc[i] == 'Down'):\n",
        "    right = right + 1\n",
        "\n",
        "print(\"Accuracy =\", right/len(pred_cat))\n"
      ],
      "execution_count": 569,
      "outputs": [
        {
          "output_type": "stream",
          "text": [
            "Accuracy = 0.4117647058823529\n"
          ],
          "name": "stdout"
        }
      ]
    },
    {
      "cell_type": "markdown",
      "metadata": {
        "id": "WoKZATmznXuf",
        "colab_type": "text"
      },
      "source": [
        "The result was... not any better."
      ]
    },
    {
      "cell_type": "code",
      "metadata": {
        "id": "s5UHR2dznwMQ",
        "colab_type": "code",
        "colab": {
          "base_uri": "https://localhost:8080/",
          "height": 34
        },
        "outputId": "57876ca9-b9a1-4685-ba82-7146cd3cdec1"
      },
      "source": [
        "accuracies = []\n",
        "\n",
        "for i in range (N):\n",
        "  x = final_data2[ ['Number of tweets','Positive Tweets','Negative Tweets'] ]\n",
        "  y = final_data2['Stock Change (%)']\n",
        "\n",
        "  x_train, x_test, y_train, y_test = train_test_split(x, y, test_size = 0.2, random_state = i**2)\n",
        "\n",
        "  regressor = LinearRegression()\n",
        "  regressor.fit(x_train, y_train)\n",
        "\n",
        "  y_pred = regressor.predict(x_test)\n",
        "\n",
        "  results = pd.DataFrame({'Actual': y_test, 'Predicted': y_pred})\n",
        "\n",
        "  pred_cat = []\n",
        "  for i in range (len(y_pred)):\n",
        "    if (results['Predicted'].iloc[i] > 0):\n",
        "      pred_cat.append('Up')\n",
        "    else:\n",
        "      pred_cat.append('Down')\n",
        "\n",
        "  results_cat = pd.DataFrame({'Actual': y_test, 'Predicted': pred_cat})\n",
        "\n",
        "  right = 0\n",
        "  for i in range (len(pred_cat)):\n",
        "    if (results_cat['Actual'].iloc[i] > 0) and (results_cat['Predicted'].iloc[i] == 'Up'):\n",
        "      right = right + 1\n",
        "    if (results_cat['Actual'].iloc[i] < 0) and (results_cat['Predicted'].iloc[i] == 'Down'):\n",
        "      right = right + 1\n",
        "  \n",
        "  accuracies.append(right/len(pred_cat))\n",
        "\n",
        "np.mean(accuracies)"
      ],
      "execution_count": 570,
      "outputs": [
        {
          "output_type": "execute_result",
          "data": {
            "text/plain": [
              "0.46392156862745104"
            ]
          },
          "metadata": {
            "tags": []
          },
          "execution_count": 570
        }
      ]
    },
    {
      "cell_type": "markdown",
      "metadata": {
        "id": "1XvnsdtCnjs9",
        "colab_type": "text"
      },
      "source": [
        "Clearly just assigning each tweet a positive or negative sentiment wasn't useful, so I decided to try and use the sentiment analysis algorithem, but alter it to be more usefull.  Instead of using the provided dataset with positive and negative tags, I used Elon Musk's tweets, and tagged them by whether the stock rose or fell on that day."
      ]
    },
    {
      "cell_type": "code",
      "metadata": {
        "id": "AVIW6sn812nM",
        "colab_type": "code",
        "colab": {
          "base_uri": "https://localhost:8080/",
          "height": 419
        },
        "outputId": "24a37dcd-aa59-4252-eafd-926885391272"
      },
      "source": [
        "dates3 = []\n",
        "text2 = []\n",
        "change2 = []\n",
        "for i in range (len(dates2)):\n",
        "  if dates2[i] in final_data[\"Date\"].tolist():\n",
        "    dates3.append(dates2[i])\n",
        "    text2.append(tweets['text'][i])\n",
        "    change2.append(final_data['Stock Change (%)'][final_data[\"Date\"].tolist().index(dates2[i])])\n",
        "\n",
        "tweets2 = pd.DataFrame({'Date': dates3, 'Tweets': text2, 'Stock Change (%)': change2})\n",
        "tweets2\n"
      ],
      "execution_count": 571,
      "outputs": [
        {
          "output_type": "execute_result",
          "data": {
            "text/html": [
              "<div>\n",
              "<style scoped>\n",
              "    .dataframe tbody tr th:only-of-type {\n",
              "        vertical-align: middle;\n",
              "    }\n",
              "\n",
              "    .dataframe tbody tr th {\n",
              "        vertical-align: top;\n",
              "    }\n",
              "\n",
              "    .dataframe thead th {\n",
              "        text-align: right;\n",
              "    }\n",
              "</style>\n",
              "<table border=\"1\" class=\"dataframe\">\n",
              "  <thead>\n",
              "    <tr style=\"text-align: right;\">\n",
              "      <th></th>\n",
              "      <th>Date</th>\n",
              "      <th>Tweets</th>\n",
              "      <th>Stock Change (%)</th>\n",
              "    </tr>\n",
              "  </thead>\n",
              "  <tbody>\n",
              "    <tr>\n",
              "      <th>0</th>\n",
              "      <td>2017-12-07</td>\n",
              "      <td>@FortuneTech Do it</td>\n",
              "      <td>-0.243593</td>\n",
              "    </tr>\n",
              "    <tr>\n",
              "      <th>1</th>\n",
              "      <td>2017-12-08</td>\n",
              "      <td>@tiamaria68uk Yes</td>\n",
              "      <td>0.168468</td>\n",
              "    </tr>\n",
              "    <tr>\n",
              "      <th>2</th>\n",
              "      <td>2017-12-08</td>\n",
              "      <td>On Tuesday, SpaceX will attempt to fly both an...</td>\n",
              "      <td>0.168468</td>\n",
              "    </tr>\n",
              "    <tr>\n",
              "      <th>3</th>\n",
              "      <td>2017-12-08</td>\n",
              "      <td>On Tuesday, SpaceX will attempt to refly both ...</td>\n",
              "      <td>0.168468</td>\n",
              "    </tr>\n",
              "    <tr>\n",
              "      <th>4</th>\n",
              "      <td>2017-12-08</td>\n",
              "      <td>@tiamaria68uk Plus a towel and a sign saying \"...</td>\n",
              "      <td>0.168468</td>\n",
              "    </tr>\n",
              "    <tr>\n",
              "      <th>...</th>\n",
              "      <td>...</td>\n",
              "      <td>...</td>\n",
              "      <td>...</td>\n",
              "    </tr>\n",
              "    <tr>\n",
              "      <th>3418</th>\n",
              "      <td>2019-08-13</td>\n",
              "      <td>@C3LT_Games Roughly</td>\n",
              "      <td>2.705302</td>\n",
              "    </tr>\n",
              "    <tr>\n",
              "      <th>3419</th>\n",
              "      <td>2019-08-14</td>\n",
              "      <td>RT @Tesla: \"I really miss gas stations\" said n...</td>\n",
              "      <td>-5.012764</td>\n",
              "    </tr>\n",
              "    <tr>\n",
              "      <th>3420</th>\n",
              "      <td>2019-08-14</td>\n",
              "      <td>No but srsly don't do it https://t.co/6kXAdGwWsC</td>\n",
              "      <td>-5.012764</td>\n",
              "    </tr>\n",
              "    <tr>\n",
              "      <th>3421</th>\n",
              "      <td>2019-08-14</td>\n",
              "      <td>@acf3301 True</td>\n",
              "      <td>-5.012764</td>\n",
              "    </tr>\n",
              "    <tr>\n",
              "      <th>3422</th>\n",
              "      <td>2019-08-15</td>\n",
              "      <td>heh heh https://t.co/UbHul2wgjM</td>\n",
              "      <td>-2.363489</td>\n",
              "    </tr>\n",
              "  </tbody>\n",
              "</table>\n",
              "<p>3423 rows × 3 columns</p>\n",
              "</div>"
            ],
            "text/plain": [
              "            Date  ... Stock Change (%)\n",
              "0     2017-12-07  ...        -0.243593\n",
              "1     2017-12-08  ...         0.168468\n",
              "2     2017-12-08  ...         0.168468\n",
              "3     2017-12-08  ...         0.168468\n",
              "4     2017-12-08  ...         0.168468\n",
              "...          ...  ...              ...\n",
              "3418  2019-08-13  ...         2.705302\n",
              "3419  2019-08-14  ...        -5.012764\n",
              "3420  2019-08-14  ...        -5.012764\n",
              "3421  2019-08-14  ...        -5.012764\n",
              "3422  2019-08-15  ...        -2.363489\n",
              "\n",
              "[3423 rows x 3 columns]"
            ]
          },
          "metadata": {
            "tags": []
          },
          "execution_count": 571
        }
      ]
    },
    {
      "cell_type": "markdown",
      "metadata": {
        "id": "vgA5y5Mnn9_C",
        "colab_type": "text"
      },
      "source": [
        "To deal with multiple tweets on the same day, I put all the tweets from each day together."
      ]
    },
    {
      "cell_type": "code",
      "metadata": {
        "id": "k9KogHG38_iX",
        "colab_type": "code",
        "colab": {
          "base_uri": "https://localhost:8080/",
          "height": 419
        },
        "outputId": "ad9d86c0-2de3-487e-97bb-80088d997bb2"
      },
      "source": [
        "tweets_p = []\n",
        "change3 = []\n",
        "for i in range (len(final_data['Date'])):\n",
        "  a = [k for k,x in enumerate(dates3) if x==final_dates[i]]\n",
        "  if (len(a) > 1):\n",
        "    tweet_tot = ''\n",
        "    for j in a:\n",
        "      tweet_tot = tweet_tot + str(text2[j])\n",
        "    tweets_p.append(tweet_tot)\n",
        "  else:\n",
        "    tweets_p.append(text2[i])\n",
        "  change3.append(final_data['Stock Change (%)'][i])\n",
        "\n",
        "tweets3 = pd.DataFrame({'Date': final_dates, 'Tweets+': tweets_p, 'Stock Change (%)': change3})\n",
        "tweets3"
      ],
      "execution_count": 572,
      "outputs": [
        {
          "output_type": "execute_result",
          "data": {
            "text/html": [
              "<div>\n",
              "<style scoped>\n",
              "    .dataframe tbody tr th:only-of-type {\n",
              "        vertical-align: middle;\n",
              "    }\n",
              "\n",
              "    .dataframe tbody tr th {\n",
              "        vertical-align: top;\n",
              "    }\n",
              "\n",
              "    .dataframe thead th {\n",
              "        text-align: right;\n",
              "    }\n",
              "</style>\n",
              "<table border=\"1\" class=\"dataframe\">\n",
              "  <thead>\n",
              "    <tr style=\"text-align: right;\">\n",
              "      <th></th>\n",
              "      <th>Date</th>\n",
              "      <th>Tweets+</th>\n",
              "      <th>Stock Change (%)</th>\n",
              "    </tr>\n",
              "  </thead>\n",
              "  <tbody>\n",
              "    <tr>\n",
              "      <th>0</th>\n",
              "      <td>2017-12-07</td>\n",
              "      <td>@FortuneTech Do it</td>\n",
              "      <td>-0.243593</td>\n",
              "    </tr>\n",
              "    <tr>\n",
              "      <th>1</th>\n",
              "      <td>2017-12-08</td>\n",
              "      <td>@tiamaria68uk YesOn Tuesday, SpaceX will attem...</td>\n",
              "      <td>0.168468</td>\n",
              "    </tr>\n",
              "    <tr>\n",
              "      <th>2</th>\n",
              "      <td>2017-12-11</td>\n",
              "      <td>Over 30,000 hats sold!After 50k hats, we will ...</td>\n",
              "      <td>4.538664</td>\n",
              "    </tr>\n",
              "    <tr>\n",
              "      <th>3</th>\n",
              "      <td>2017-12-12</td>\n",
              "      <td>On Tuesday, SpaceX will attempt to refly both ...</td>\n",
              "      <td>3.201691</td>\n",
              "    </tr>\n",
              "    <tr>\n",
              "      <th>4</th>\n",
              "      <td>2017-12-13</td>\n",
              "      <td>@kaaningilamo Our existence cannot just be abo...</td>\n",
              "      <td>-0.557297</td>\n",
              "    </tr>\n",
              "    <tr>\n",
              "      <th>...</th>\n",
              "      <td>...</td>\n",
              "      <td>...</td>\n",
              "      <td>...</td>\n",
              "    </tr>\n",
              "    <tr>\n",
              "      <th>381</th>\n",
              "      <td>2019-08-08</td>\n",
              "      <td>RT @cleantechnica: Breaking! IIHS To Crash Tes...</td>\n",
              "      <td>1.642144</td>\n",
              "    </tr>\n",
              "    <tr>\n",
              "      <th>382</th>\n",
              "      <td>2019-08-09</td>\n",
              "      <td>RT @Teslarati: Tesla Navigate on Autopilot wit...</td>\n",
              "      <td>-0.440588</td>\n",
              "    </tr>\n",
              "    <tr>\n",
              "      <th>383</th>\n",
              "      <td>2019-08-13</td>\n",
              "      <td>Reason RBC question about Model 3 demand is ab...</td>\n",
              "      <td>2.705302</td>\n",
              "    </tr>\n",
              "    <tr>\n",
              "      <th>384</th>\n",
              "      <td>2019-08-14</td>\n",
              "      <td>RT @Tesla: \"I really miss gas stations\" said n...</td>\n",
              "      <td>-5.012764</td>\n",
              "    </tr>\n",
              "    <tr>\n",
              "      <th>385</th>\n",
              "      <td>2019-08-15</td>\n",
              "      <td>@GlobalProTrader @wmiddelkoop True. And once t...</td>\n",
              "      <td>-2.363489</td>\n",
              "    </tr>\n",
              "  </tbody>\n",
              "</table>\n",
              "<p>386 rows × 3 columns</p>\n",
              "</div>"
            ],
            "text/plain": [
              "           Date  ... Stock Change (%)\n",
              "0    2017-12-07  ...        -0.243593\n",
              "1    2017-12-08  ...         0.168468\n",
              "2    2017-12-11  ...         4.538664\n",
              "3    2017-12-12  ...         3.201691\n",
              "4    2017-12-13  ...        -0.557297\n",
              "..          ...  ...              ...\n",
              "381  2019-08-08  ...         1.642144\n",
              "382  2019-08-09  ...        -0.440588\n",
              "383  2019-08-13  ...         2.705302\n",
              "384  2019-08-14  ...        -5.012764\n",
              "385  2019-08-15  ...        -2.363489\n",
              "\n",
              "[386 rows x 3 columns]"
            ]
          },
          "metadata": {
            "tags": []
          },
          "execution_count": 572
        }
      ]
    },
    {
      "cell_type": "markdown",
      "metadata": {
        "id": "FzYZcROnoK4i",
        "colab_type": "text"
      },
      "source": [
        "Then, I tagged each tweet+ by stock change.  I also split up the data into a training and testing set."
      ]
    },
    {
      "cell_type": "code",
      "metadata": {
        "id": "5EvGd83FEqQS",
        "colab_type": "code",
        "colab": {}
      },
      "source": [
        "import random\n",
        "\n",
        "up_tweets0 = []\n",
        "down_tweets0 = []\n",
        "for i in range (len(tweets3['Stock Change (%)'])):\n",
        "  if (tweets3['Stock Change (%)'][i] > 0):\n",
        "    up_tweets0.append(tweets_p[i])\n",
        "  else:\n",
        "    down_tweets0.append(tweets_p[i])\n",
        "\n",
        "random.shuffle(up_tweets0)\n",
        "random.shuffle(down_tweets0)\n",
        "\n",
        "up_tweets = up_tweets0[:round((len(up_tweets0)*.8))]\n",
        "down_tweets = down_tweets0[:round((len(down_tweets0)*.8))]"
      ],
      "execution_count": 0,
      "outputs": []
    },
    {
      "cell_type": "markdown",
      "metadata": {
        "id": "sCUGlsXBoexV",
        "colab_type": "text"
      },
      "source": [
        "Then, the code analyzes the tweets and creates a model."
      ]
    },
    {
      "cell_type": "code",
      "metadata": {
        "id": "ZDfhud-hH3lq",
        "colab_type": "code",
        "colab": {}
      },
      "source": [
        "\n",
        "\n",
        "pos_tweets = up_tweets\n",
        "neg_tweets = down_tweets\n",
        "text = twitter_samples.strings('tweets.20150430-223406.json')\n",
        "\n",
        "def lemmatize_sentence(tokens):\n",
        "  lemmatizer = WordNetLemmatizer()\n",
        "  lemmatized_sentence = []\n",
        "  for word, tag in pos_tag(tokens):\n",
        "    if tag.startswith('NN'):\n",
        "      pos = 'n'\n",
        "    elif tag.startswith('VB'):\n",
        "      pos = 'v'\n",
        "    else:\n",
        "      pos = 'a'\n",
        "    lemmatized_sentence.append(lemmatizer.lemmatize(word,pos))\n",
        "  return lemmatized_sentence\n",
        "\n",
        "def remove_noise(tweet_tokens, stop_words = ()):\n",
        "  cleaned_tokens = []\n",
        "  for token, tag in pos_tag(tweet_tokens):\n",
        "      token = re.sub('http[s]?://(?:[a-zA-Z]|[0-9]|[$-_@.&+#]|[!*\\(\\),]|'\\\n",
        "                      '(?:%[0-9a-fA-F][0-9a-fA-F]))+','', token)\n",
        "      token = re.sub(\"(@[A-Za-z0-9_]+)\",\"\", token)\n",
        "      \n",
        "      if tag.startswith(\"NN\"):\n",
        "          pos = 'n'\n",
        "      elif tag.startswith('VB'):\n",
        "          pos = 'v'\n",
        "      else:\n",
        "          pos = 'a'\n",
        "      lemmatizer = WordNetLemmatizer()\n",
        "      token = lemmatizer.lemmatize(token, pos)\n",
        "\n",
        "      if len(token) > 0 and token not in string.punctuation and token.lower() not in stop_words:\n",
        "          cleaned_tokens.append(token.lower())\n",
        "  return cleaned_tokens\n",
        "\n",
        "stop_words = stopwords.words('english')\n",
        "\n",
        "positive_tweet_tokens = []\n",
        "\n",
        "for i in range (len(up_tweets)):\n",
        "  positive_tweet_tokens.append(nltk.word_tokenize(up_tweets[i]))\n",
        "\n",
        "negative_tweet_tokens = []\n",
        "\n",
        "for i in range (len(down_tweets)):\n",
        "  negative_tweet_tokens.append(nltk.word_tokenize(down_tweets[i]))\n",
        "\n",
        "positive_cleaned_tokens_list = []\n",
        "negative_cleaned_tokens_list = []\n",
        "\n",
        "for tokens in positive_tweet_tokens:\n",
        "    positive_cleaned_tokens_list.append(remove_noise(tokens, stop_words))\n",
        "\n",
        "for tokens in negative_tweet_tokens:\n",
        "    negative_cleaned_tokens_list.append(remove_noise(tokens, stop_words))\n",
        "\n",
        "def get_tweets_for_model(cleaned_tokens_list):\n",
        "    for tweet_tokens in cleaned_tokens_list:\n",
        "        yield dict([token, True] for token in tweet_tokens)\n",
        "\n",
        "positive_tokens_for_model = get_tweets_for_model(positive_cleaned_tokens_list)\n",
        "negative_tokens_for_model = get_tweets_for_model(negative_cleaned_tokens_list)\n",
        "\n",
        "positive_dataset = [(tweet_dict, \"Positive\")\n",
        "                     for tweet_dict in positive_tokens_for_model]\n",
        "\n",
        "negative_dataset = [(tweet_dict, \"Negative\")\n",
        "                     for tweet_dict in negative_tokens_for_model]\n",
        "dataset = positive_dataset + negative_dataset\n",
        "random.shuffle(dataset)\n",
        "train_data = dataset\n",
        "\n",
        "from nltk import classify\n",
        "from nltk import NaiveBayesClassifier\n",
        "\n",
        "classifier = NaiveBayesClassifier.train(train_data)\n"
      ],
      "execution_count": 0,
      "outputs": []
    },
    {
      "cell_type": "markdown",
      "metadata": {
        "id": "v_pCZOsMorCl",
        "colab_type": "text"
      },
      "source": [
        "I played around with custom tweets for a while to see how well the model functions.  The dataset is pretty small, so predictably, it's so-so."
      ]
    },
    {
      "cell_type": "code",
      "metadata": {
        "id": "LPNCmWAzK4Cv",
        "colab_type": "code",
        "colab": {
          "base_uri": "https://localhost:8080/",
          "height": 34
        },
        "outputId": "77e9bd39-aa3c-4593-d988-26926cbb5bc3"
      },
      "source": [
        "custom_tweet = \"We are making cool cars!\"\n",
        "\n",
        "custom_tokens = remove_noise(word_tokenize(custom_tweet))\n",
        "\n",
        "print(classifier.classify(dict([token, True] for token in custom_tokens)))"
      ],
      "execution_count": 582,
      "outputs": [
        {
          "output_type": "stream",
          "text": [
            "Positive\n"
          ],
          "name": "stdout"
        }
      ]
    },
    {
      "cell_type": "code",
      "metadata": {
        "id": "6Ib_6MoekvD6",
        "colab_type": "code",
        "colab": {
          "base_uri": "https://localhost:8080/",
          "height": 34
        },
        "outputId": "55a318c5-9469-4a91-c417-198e8d3ff8ca"
      },
      "source": [
        "custom_tweet = \"The factory is broken\"\n",
        "\n",
        "custom_tokens = remove_noise(word_tokenize(custom_tweet))\n",
        "\n",
        "print(classifier.classify(dict([token, True] for token in custom_tokens)))"
      ],
      "execution_count": 594,
      "outputs": [
        {
          "output_type": "stream",
          "text": [
            "Positive\n"
          ],
          "name": "stdout"
        }
      ]
    },
    {
      "cell_type": "code",
      "metadata": {
        "id": "XsXt2wMFLDf6",
        "colab_type": "code",
        "colab": {
          "base_uri": "https://localhost:8080/",
          "height": 34
        },
        "outputId": "6c919f90-601e-4e62-8d5e-f14ae7521b94"
      },
      "source": [
        "custom_tweet = \"All the cars are broken\"\n",
        "\n",
        "custom_tokens = remove_noise(word_tokenize(custom_tweet))\n",
        "\n",
        "print(classifier.classify(dict([token, True] for token in custom_tokens)))"
      ],
      "execution_count": 593,
      "outputs": [
        {
          "output_type": "stream",
          "text": [
            "Negative\n"
          ],
          "name": "stdout"
        }
      ]
    },
    {
      "cell_type": "markdown",
      "metadata": {
        "id": "I4c1XPE5o7ah",
        "colab_type": "text"
      },
      "source": [
        "Then, I put each tweet+ through the model."
      ]
    },
    {
      "cell_type": "code",
      "metadata": {
        "id": "x8woP7yENWa1",
        "colab_type": "code",
        "colab": {}
      },
      "source": [
        "sentiments2 = []\n",
        "for i in range (len(tweets_p)):\n",
        "  custom_tokens = remove_noise(word_tokenize(str(tweets_p[i])))\n",
        "  if (classifier.classify(dict([token, True] for token in custom_tokens)) == 'Positive'):\n",
        "    sentiments2.append('Up')\n",
        "  else:\n",
        "    sentiments2.append('Down')\n"
      ],
      "execution_count": 0,
      "outputs": []
    },
    {
      "cell_type": "markdown",
      "metadata": {
        "id": "SG8fKN9TpAmz",
        "colab_type": "text"
      },
      "source": [
        "Finally, I used the testing set to determine the accuracy of the model.  I didn't repreat the whole thing 100 times like I did earlier, but I tend to get results around 0.5, meaning once again the model is no better than guessing."
      ]
    },
    {
      "cell_type": "code",
      "metadata": {
        "id": "BTZTnZSbURWL",
        "colab_type": "code",
        "colab": {
          "base_uri": "https://localhost:8080/",
          "height": 419
        },
        "outputId": "ba52d510-499b-447e-ba9f-3a5ec3485a42"
      },
      "source": [
        "test_tweets = up_tweets0[round((len(up_tweets0)*.8)):] + down_tweets0[round((len(down_tweets0)*.8)):]\n",
        "\n",
        "test_dates = []\n",
        "test_changes = []\n",
        "test_sentiments = []\n",
        "for i in range (len(test_tweets)):\n",
        "  a = [k for k,x in enumerate(tweets3['Tweets+']) if x==test_tweets[i]]\n",
        "  test_dates.append(tweets3[\"Date\"][a[0]])\n",
        "  test_changes.append(tweets3[\"Stock Change (%)\"][a[0]])\n",
        "  test_sentiments.append(sentiments2[a[0]])\n",
        "\n",
        "test = pd.DataFrame(data = {'Date':test_dates, 'Tweets+':test_tweets,'Prediction': test_sentiments, 'Stock Change (%)':test_changes})\n",
        "test"
      ],
      "execution_count": 585,
      "outputs": [
        {
          "output_type": "execute_result",
          "data": {
            "text/html": [
              "<div>\n",
              "<style scoped>\n",
              "    .dataframe tbody tr th:only-of-type {\n",
              "        vertical-align: middle;\n",
              "    }\n",
              "\n",
              "    .dataframe tbody tr th {\n",
              "        vertical-align: top;\n",
              "    }\n",
              "\n",
              "    .dataframe thead th {\n",
              "        text-align: right;\n",
              "    }\n",
              "</style>\n",
              "<table border=\"1\" class=\"dataframe\">\n",
              "  <thead>\n",
              "    <tr style=\"text-align: right;\">\n",
              "      <th></th>\n",
              "      <th>Date</th>\n",
              "      <th>Tweets+</th>\n",
              "      <th>Prediction</th>\n",
              "      <th>Stock Change (%)</th>\n",
              "    </tr>\n",
              "  </thead>\n",
              "  <tbody>\n",
              "    <tr>\n",
              "      <th>0</th>\n",
              "      <td>2019-01-10</td>\n",
              "      <td>Tesla *with* Autopilot engaged is twice as saf...</td>\n",
              "      <td>Down</td>\n",
              "      <td>3.160887</td>\n",
              "    </tr>\n",
              "    <tr>\n",
              "      <th>1</th>\n",
              "      <td>2019-01-11</td>\n",
              "      <td>Starship test flight rocket just finished asse...</td>\n",
              "      <td>Up</td>\n",
              "      <td>1.511302</td>\n",
              "    </tr>\n",
              "    <tr>\n",
              "      <th>2</th>\n",
              "      <td>2019-07-23</td>\n",
              "      <td>Time to face reality https://t.co/WOzE2XwlQvht...</td>\n",
              "      <td>Up</td>\n",
              "      <td>1.347833</td>\n",
              "    </tr>\n",
              "    <tr>\n",
              "      <th>3</th>\n",
              "      <td>2019-03-21</td>\n",
              "      <td>@TeslaGong Probably start Australia builds in ...</td>\n",
              "      <td>Down</td>\n",
              "      <td>0.520904</td>\n",
              "    </tr>\n",
              "    <tr>\n",
              "      <th>4</th>\n",
              "      <td>2018-04-26</td>\n",
              "      <td>@GameOfThrones Don't make me use my space lase...</td>\n",
              "      <td>Down</td>\n",
              "      <td>2.414354</td>\n",
              "    </tr>\n",
              "    <tr>\n",
              "      <th>...</th>\n",
              "      <td>...</td>\n",
              "      <td>...</td>\n",
              "      <td>...</td>\n",
              "      <td>...</td>\n",
              "    </tr>\n",
              "    <tr>\n",
              "      <th>72</th>\n",
              "      <td>2018-02-21</td>\n",
              "      <td>@lorengrush @T28058389 @VP @blueorigin @ulalau...</td>\n",
              "      <td>Down</td>\n",
              "      <td>-0.812431</td>\n",
              "    </tr>\n",
              "    <tr>\n",
              "      <th>73</th>\n",
              "      <td>2019-05-01</td>\n",
              "      <td>@paulg Good question@S100D27 @paulg @CNBC @cha...</td>\n",
              "      <td>Down</td>\n",
              "      <td>-2.026381</td>\n",
              "    </tr>\n",
              "    <tr>\n",
              "      <th>74</th>\n",
              "      <td>2018-05-18</td>\n",
              "      <td>Excited for @boringcompany partnership with LA...</td>\n",
              "      <td>Down</td>\n",
              "      <td>-2.750742</td>\n",
              "    </tr>\n",
              "    <tr>\n",
              "      <th>75</th>\n",
              "      <td>2018-04-06</td>\n",
              "      <td>Nothing will affect the future of humanity mor...</td>\n",
              "      <td>Up</td>\n",
              "      <td>-0.564788</td>\n",
              "    </tr>\n",
              "    <tr>\n",
              "      <th>76</th>\n",
              "      <td>2018-08-17</td>\n",
              "      <td>@AngryPackOMeese @dlxinorbit @doug_ellison @ds...</td>\n",
              "      <td>Down</td>\n",
              "      <td>-5.564142</td>\n",
              "    </tr>\n",
              "  </tbody>\n",
              "</table>\n",
              "<p>77 rows × 4 columns</p>\n",
              "</div>"
            ],
            "text/plain": [
              "          Date  ... Stock Change (%)\n",
              "0   2019-01-10  ...         3.160887\n",
              "1   2019-01-11  ...         1.511302\n",
              "2   2019-07-23  ...         1.347833\n",
              "3   2019-03-21  ...         0.520904\n",
              "4   2018-04-26  ...         2.414354\n",
              "..         ...  ...              ...\n",
              "72  2018-02-21  ...        -0.812431\n",
              "73  2019-05-01  ...        -2.026381\n",
              "74  2018-05-18  ...        -2.750742\n",
              "75  2018-04-06  ...        -0.564788\n",
              "76  2018-08-17  ...        -5.564142\n",
              "\n",
              "[77 rows x 4 columns]"
            ]
          },
          "metadata": {
            "tags": []
          },
          "execution_count": 585
        }
      ]
    },
    {
      "cell_type": "code",
      "metadata": {
        "id": "c2DEB0X_Xx92",
        "colab_type": "code",
        "colab": {
          "base_uri": "https://localhost:8080/",
          "height": 34
        },
        "outputId": "c3ca21a5-c6da-4a3a-ecde-cebd23427d5c"
      },
      "source": [
        "right = 0\n",
        "for i in range (len(test_dates)):\n",
        "  if (test_sentiments[i] == 'Up') and (test_changes[i] > 0):\n",
        "    right = right + 1\n",
        "  if (test_sentiments[i] == 'Down') and (test_changes[i] < 0):\n",
        "    right = right + 1\n",
        "\n",
        "print(right/len(test_dates))"
      ],
      "execution_count": 586,
      "outputs": [
        {
          "output_type": "stream",
          "text": [
            "0.4805194805194805\n"
          ],
          "name": "stdout"
        }
      ]
    }
  ]
}